{
 "cells": [
  {
   "cell_type": "markdown",
   "id": "4dd3aca6",
   "metadata": {},
   "source": [
    "# Step 1: Import Data and Packages"
   ]
  },
  {
   "cell_type": "code",
   "execution_count": 12,
   "id": "b5465f90",
   "metadata": {
    "scrolled": false
   },
   "outputs": [
    {
     "data": {
      "text/html": [
       "<div>\n",
       "<style scoped>\n",
       "    .dataframe tbody tr th:only-of-type {\n",
       "        vertical-align: middle;\n",
       "    }\n",
       "\n",
       "    .dataframe tbody tr th {\n",
       "        vertical-align: top;\n",
       "    }\n",
       "\n",
       "    .dataframe thead th {\n",
       "        text-align: right;\n",
       "    }\n",
       "</style>\n",
       "<table border=\"1\" class=\"dataframe\">\n",
       "  <thead>\n",
       "    <tr style=\"text-align: right;\">\n",
       "      <th></th>\n",
       "      <th>case</th>\n",
       "      <th>site</th>\n",
       "      <th>Pop</th>\n",
       "      <th>sex</th>\n",
       "      <th>age</th>\n",
       "      <th>hdlngth</th>\n",
       "      <th>skullw</th>\n",
       "      <th>totlngth</th>\n",
       "      <th>taill</th>\n",
       "      <th>footlgth</th>\n",
       "      <th>earconch</th>\n",
       "      <th>eye</th>\n",
       "      <th>chest</th>\n",
       "      <th>belly</th>\n",
       "    </tr>\n",
       "  </thead>\n",
       "  <tbody>\n",
       "    <tr>\n",
       "      <th>0</th>\n",
       "      <td>1</td>\n",
       "      <td>1</td>\n",
       "      <td>Vic</td>\n",
       "      <td>m</td>\n",
       "      <td>8.0</td>\n",
       "      <td>94.1</td>\n",
       "      <td>60.4</td>\n",
       "      <td>89.0</td>\n",
       "      <td>36.0</td>\n",
       "      <td>74.5</td>\n",
       "      <td>54.5</td>\n",
       "      <td>15.2</td>\n",
       "      <td>28.0</td>\n",
       "      <td>36.0</td>\n",
       "    </tr>\n",
       "    <tr>\n",
       "      <th>1</th>\n",
       "      <td>2</td>\n",
       "      <td>1</td>\n",
       "      <td>Vic</td>\n",
       "      <td>f</td>\n",
       "      <td>6.0</td>\n",
       "      <td>92.5</td>\n",
       "      <td>57.6</td>\n",
       "      <td>91.5</td>\n",
       "      <td>36.5</td>\n",
       "      <td>72.5</td>\n",
       "      <td>51.2</td>\n",
       "      <td>16.0</td>\n",
       "      <td>28.5</td>\n",
       "      <td>33.0</td>\n",
       "    </tr>\n",
       "    <tr>\n",
       "      <th>2</th>\n",
       "      <td>3</td>\n",
       "      <td>1</td>\n",
       "      <td>Vic</td>\n",
       "      <td>f</td>\n",
       "      <td>6.0</td>\n",
       "      <td>94.0</td>\n",
       "      <td>60.0</td>\n",
       "      <td>95.5</td>\n",
       "      <td>39.0</td>\n",
       "      <td>75.4</td>\n",
       "      <td>51.9</td>\n",
       "      <td>15.5</td>\n",
       "      <td>30.0</td>\n",
       "      <td>34.0</td>\n",
       "    </tr>\n",
       "    <tr>\n",
       "      <th>3</th>\n",
       "      <td>4</td>\n",
       "      <td>1</td>\n",
       "      <td>Vic</td>\n",
       "      <td>f</td>\n",
       "      <td>6.0</td>\n",
       "      <td>93.2</td>\n",
       "      <td>57.1</td>\n",
       "      <td>92.0</td>\n",
       "      <td>38.0</td>\n",
       "      <td>76.1</td>\n",
       "      <td>52.2</td>\n",
       "      <td>15.2</td>\n",
       "      <td>28.0</td>\n",
       "      <td>34.0</td>\n",
       "    </tr>\n",
       "    <tr>\n",
       "      <th>4</th>\n",
       "      <td>5</td>\n",
       "      <td>1</td>\n",
       "      <td>Vic</td>\n",
       "      <td>f</td>\n",
       "      <td>2.0</td>\n",
       "      <td>91.5</td>\n",
       "      <td>56.3</td>\n",
       "      <td>85.5</td>\n",
       "      <td>36.0</td>\n",
       "      <td>71.0</td>\n",
       "      <td>53.2</td>\n",
       "      <td>15.1</td>\n",
       "      <td>28.5</td>\n",
       "      <td>33.0</td>\n",
       "    </tr>\n",
       "  </tbody>\n",
       "</table>\n",
       "</div>"
      ],
      "text/plain": [
       "   case  site  Pop sex  age  hdlngth  skullw  totlngth  taill  footlgth  \\\n",
       "0     1     1  Vic   m  8.0     94.1    60.4      89.0   36.0      74.5   \n",
       "1     2     1  Vic   f  6.0     92.5    57.6      91.5   36.5      72.5   \n",
       "2     3     1  Vic   f  6.0     94.0    60.0      95.5   39.0      75.4   \n",
       "3     4     1  Vic   f  6.0     93.2    57.1      92.0   38.0      76.1   \n",
       "4     5     1  Vic   f  2.0     91.5    56.3      85.5   36.0      71.0   \n",
       "\n",
       "   earconch   eye  chest  belly  \n",
       "0      54.5  15.2   28.0   36.0  \n",
       "1      51.2  16.0   28.5   33.0  \n",
       "2      51.9  15.5   30.0   34.0  \n",
       "3      52.2  15.2   28.0   34.0  \n",
       "4      53.2  15.1   28.5   33.0  "
      ]
     },
     "execution_count": 12,
     "metadata": {},
     "output_type": "execute_result"
    }
   ],
   "source": [
    "import numpy as np\n",
    "import pandas as pd\n",
    "\n",
    "\n",
    "import warnings\n",
    "warnings.filterwarnings('ignore')\n",
    "\n",
    "original_data = pd.read_csv(\"possum.csv\")\n",
    "\n",
    "original_data.head()"
   ]
  },
  {
   "cell_type": "markdown",
   "id": "276960e9",
   "metadata": {},
   "source": [
    "### Check columns"
   ]
  },
  {
   "cell_type": "code",
   "execution_count": 13,
   "id": "e50802c4",
   "metadata": {
    "scrolled": false
   },
   "outputs": [
    {
     "name": "stdout",
     "output_type": "stream",
     "text": [
      "<class 'pandas.core.frame.DataFrame'>\n",
      "RangeIndex: 104 entries, 0 to 103\n",
      "Data columns (total 14 columns):\n",
      " #   Column    Non-Null Count  Dtype  \n",
      "---  ------    --------------  -----  \n",
      " 0   case      104 non-null    int64  \n",
      " 1   site      104 non-null    int64  \n",
      " 2   Pop       104 non-null    object \n",
      " 3   sex       104 non-null    object \n",
      " 4   age       102 non-null    float64\n",
      " 5   hdlngth   104 non-null    float64\n",
      " 6   skullw    104 non-null    float64\n",
      " 7   totlngth  104 non-null    float64\n",
      " 8   taill     104 non-null    float64\n",
      " 9   footlgth  103 non-null    float64\n",
      " 10  earconch  104 non-null    float64\n",
      " 11  eye       104 non-null    float64\n",
      " 12  chest     104 non-null    float64\n",
      " 13  belly     104 non-null    float64\n",
      "dtypes: float64(10), int64(2), object(2)\n",
      "memory usage: 11.5+ KB\n"
     ]
    }
   ],
   "source": [
    "original_data.info()"
   ]
  },
  {
   "cell_type": "markdown",
   "id": "2d91a50b",
   "metadata": {},
   "source": [
    "### Select Columns and Rows"
   ]
  },
  {
   "cell_type": "code",
   "execution_count": 33,
   "id": "1670df1b",
   "metadata": {},
   "outputs": [
    {
     "name": "stdout",
     "output_type": "stream",
     "text": [
      "\n",
      "\n",
      "filtered_data.shape =  (104, 5)\n",
      "\n",
      "\n",
      "<class 'pandas.core.frame.DataFrame'>\n",
      "RangeIndex: 104 entries, 0 to 103\n",
      "Data columns (total 5 columns):\n",
      " #   Column    Non-Null Count  Dtype  \n",
      "---  ------    --------------  -----  \n",
      " 0   sex       104 non-null    object \n",
      " 1   age       102 non-null    float64\n",
      " 2   totlngth  104 non-null    float64\n",
      " 3   taill     104 non-null    float64\n",
      " 4   Pop       104 non-null    object \n",
      "dtypes: float64(3), object(2)\n",
      "memory usage: 4.2+ KB\n",
      "None\n"
     ]
    }
   ],
   "source": [
    "# keep the columns to be used\n",
    "filtered_data = original_data[[\"sex\", \"age\", \"totlngth\", \"taill\", \"Pop\"]]\n",
    "\n",
    "\n",
    "# Prints ======================\n",
    "\n",
    "print(\"\\n\")\n",
    "print(\"filtered_data.shape = \", filtered_data.shape)\n",
    "\n",
    "print(\"\\n\")\n",
    "print(filtered_data.info())"
   ]
  },
  {
   "cell_type": "markdown",
   "id": "a72a782b",
   "metadata": {},
   "source": [
    "### Create Binary Outcome \"isMale\""
   ]
  },
  {
   "cell_type": "code",
   "execution_count": 34,
   "id": "4ab76356",
   "metadata": {},
   "outputs": [
    {
     "name": "stdout",
     "output_type": "stream",
     "text": [
      "\n",
      "\n",
      "filtered_data.shape =  (104, 5)\n",
      "\n",
      "\n",
      "   age  totlngth  taill  Pop  isMale\n",
      "0  8.0      89.0   36.0  Vic       1\n",
      "1  6.0      91.5   36.5  Vic       0\n",
      "2  6.0      95.5   39.0  Vic       0\n",
      "3  6.0      92.0   38.0  Vic       0\n",
      "4  2.0      85.5   36.0  Vic       0\n"
     ]
    }
   ],
   "source": [
    "# create binary feature isMale\n",
    "\n",
    "filtered_data[\"isMale\"] = filtered_data[\"sex\"] == \"m\"\n",
    "\n",
    "filtered_data[\"isMale\"] = filtered_data[\"isMale\"].map({True: 1, False: 0})\n",
    "\n",
    "# drop column Type 1 and Type 2 as it is no longer needed\n",
    "filtered_data = filtered_data.drop(\"sex\", axis=1)\n",
    "\n",
    "# Prints  ======================\n",
    "\n",
    "print(\"\\n\")\n",
    "print(\"filtered_data.shape = \", filtered_data.shape)\n",
    "\n",
    "print(\"\\n\")\n",
    "print(filtered_data.head())"
   ]
  },
  {
   "cell_type": "code",
   "execution_count": 35,
   "id": "a4f9f15a",
   "metadata": {},
   "outputs": [
    {
     "name": "stdout",
     "output_type": "stream",
     "text": [
      "1    61\n",
      "0    43\n",
      "Name: isMale, dtype: int64\n"
     ]
    }
   ],
   "source": [
    "print(filtered_data[\"isMale\"].value_counts())"
   ]
  },
  {
   "cell_type": "markdown",
   "id": "5ff35f02",
   "metadata": {},
   "source": [
    "### Check for missing data"
   ]
  },
  {
   "cell_type": "code",
   "execution_count": 36,
   "id": "69f002d8",
   "metadata": {},
   "outputs": [
    {
     "name": "stdout",
     "output_type": "stream",
     "text": [
      "True\n",
      "Count of na's: 2\n",
      "Cases with missing values: 2\n"
     ]
    }
   ],
   "source": [
    "# Check for any missing values\n",
    "print(filtered_data.isnull().values.any())\n",
    "\n",
    "# Check number of missing values\n",
    "print(\"Count of na's:\", filtered_data.isnull().values.sum())\n",
    "\n",
    "# Check number of rows with missing values\n",
    "print(\"Cases with missing values:\", filtered_data.isna().any(axis=1).sum())"
   ]
  },
  {
   "cell_type": "code",
   "execution_count": 37,
   "id": "a8dcc477",
   "metadata": {},
   "outputs": [
    {
     "name": "stdout",
     "output_type": "stream",
     "text": [
      "Count of na's: 0\n",
      "Cases with missing values: 0\n"
     ]
    }
   ],
   "source": [
    "filtered_data = filtered_data.dropna()\n",
    "\n",
    "# Check number of missing values\n",
    "print(\"Count of na's:\", filtered_data.isnull().values.sum())\n",
    "\n",
    "# Check number of rows with missing values\n",
    "print(\"Cases with missing values:\", filtered_data.isna().any(axis=1).sum())"
   ]
  },
  {
   "cell_type": "markdown",
   "id": "5a7a3c69",
   "metadata": {},
   "source": [
    "### Train-Test Split Stratified"
   ]
  },
  {
   "cell_type": "code",
   "execution_count": 38,
   "id": "8a354724",
   "metadata": {},
   "outputs": [
    {
     "name": "stdout",
     "output_type": "stream",
     "text": [
      "X_train.shape =  (81, 4)\n",
      "X_test.shape =  (21, 4)\n",
      "y_train.shape =  (81,)\n",
      "y_test.shape =  (21,)\n",
      "\n",
      "\n",
      "y_train class proportions: \n",
      " 1    0.580247\n",
      "0    0.419753\n",
      "Name: isMale, dtype: float64\n",
      "\n",
      "\n",
      "y_test class proportions: \n",
      " 1    0.571429\n",
      "0    0.428571\n",
      "Name: isMale, dtype: float64\n"
     ]
    }
   ],
   "source": [
    "# import package\n",
    "from sklearn.model_selection import train_test_split\n",
    "\n",
    "\n",
    "# declare our X inputs and y outcomes\n",
    "X = filtered_data.drop(\"isMale\", axis=1)\n",
    "y = filtered_data[\"isMale\"]\n",
    "\n",
    "\n",
    "# stratify split\n",
    "X_train, X_test, y_train, y_test = train_test_split(X, \n",
    "                                                    y,\n",
    "                                                    stratify=y, \n",
    "                                                    test_size=0.2,\n",
    "                                                    random_state=42)\n",
    "\n",
    "print(\"X_train.shape = \", X_train.shape)\n",
    "print(\"X_test.shape = \", X_test.shape)\n",
    "\n",
    "print(\"y_train.shape = \", y_train.shape)\n",
    "print(\"y_test.shape = \", y_test.shape)\n",
    "\n",
    "print(\"\\n\")\n",
    "print(\"y_train class proportions: \\n\", y_train.value_counts(normalize=True))\n",
    "\n",
    "print(\"\\n\")\n",
    "print(\"y_test class proportions: \\n\", y_test.value_counts(normalize=True))"
   ]
  },
  {
   "cell_type": "markdown",
   "id": "cd8348ef",
   "metadata": {},
   "source": [
    "### Check the training set for missing values"
   ]
  },
  {
   "cell_type": "code",
   "execution_count": 39,
   "id": "4fc1b0ca",
   "metadata": {},
   "outputs": [
    {
     "name": "stdout",
     "output_type": "stream",
     "text": [
      "(81, 5)\n"
     ]
    }
   ],
   "source": [
    "# combine the X_train and y_train into a dataframe\n",
    "training_set = pd.concat([X_train, y_train], axis=1)\n",
    "\n",
    "# check records and features\n",
    "print(training_set.shape)"
   ]
  },
  {
   "cell_type": "code",
   "execution_count": 40,
   "id": "1129a789",
   "metadata": {
    "scrolled": true
   },
   "outputs": [
    {
     "data": {
      "text/html": [
       "<div>\n",
       "<style scoped>\n",
       "    .dataframe tbody tr th:only-of-type {\n",
       "        vertical-align: middle;\n",
       "    }\n",
       "\n",
       "    .dataframe tbody tr th {\n",
       "        vertical-align: top;\n",
       "    }\n",
       "\n",
       "    .dataframe thead th {\n",
       "        text-align: right;\n",
       "    }\n",
       "</style>\n",
       "<table border=\"1\" class=\"dataframe\">\n",
       "  <thead>\n",
       "    <tr style=\"text-align: right;\">\n",
       "      <th></th>\n",
       "      <th>age</th>\n",
       "      <th>totlngth</th>\n",
       "      <th>taill</th>\n",
       "      <th>isMale</th>\n",
       "    </tr>\n",
       "  </thead>\n",
       "  <tbody>\n",
       "    <tr>\n",
       "      <th>count</th>\n",
       "      <td>81.000000</td>\n",
       "      <td>81.000000</td>\n",
       "      <td>81.000000</td>\n",
       "      <td>81.000000</td>\n",
       "    </tr>\n",
       "    <tr>\n",
       "      <th>mean</th>\n",
       "      <td>3.975309</td>\n",
       "      <td>87.181481</td>\n",
       "      <td>37.049383</td>\n",
       "      <td>0.580247</td>\n",
       "    </tr>\n",
       "    <tr>\n",
       "      <th>std</th>\n",
       "      <td>1.955603</td>\n",
       "      <td>4.146870</td>\n",
       "      <td>1.939080</td>\n",
       "      <td>0.496593</td>\n",
       "    </tr>\n",
       "    <tr>\n",
       "      <th>min</th>\n",
       "      <td>1.000000</td>\n",
       "      <td>77.000000</td>\n",
       "      <td>32.000000</td>\n",
       "      <td>0.000000</td>\n",
       "    </tr>\n",
       "    <tr>\n",
       "      <th>25%</th>\n",
       "      <td>3.000000</td>\n",
       "      <td>84.000000</td>\n",
       "      <td>36.000000</td>\n",
       "      <td>0.000000</td>\n",
       "    </tr>\n",
       "    <tr>\n",
       "      <th>50%</th>\n",
       "      <td>4.000000</td>\n",
       "      <td>87.500000</td>\n",
       "      <td>37.000000</td>\n",
       "      <td>1.000000</td>\n",
       "    </tr>\n",
       "    <tr>\n",
       "      <th>75%</th>\n",
       "      <td>5.000000</td>\n",
       "      <td>90.000000</td>\n",
       "      <td>38.000000</td>\n",
       "      <td>1.000000</td>\n",
       "    </tr>\n",
       "    <tr>\n",
       "      <th>max</th>\n",
       "      <td>9.000000</td>\n",
       "      <td>96.500000</td>\n",
       "      <td>41.500000</td>\n",
       "      <td>1.000000</td>\n",
       "    </tr>\n",
       "  </tbody>\n",
       "</table>\n",
       "</div>"
      ],
      "text/plain": [
       "             age   totlngth      taill     isMale\n",
       "count  81.000000  81.000000  81.000000  81.000000\n",
       "mean    3.975309  87.181481  37.049383   0.580247\n",
       "std     1.955603   4.146870   1.939080   0.496593\n",
       "min     1.000000  77.000000  32.000000   0.000000\n",
       "25%     3.000000  84.000000  36.000000   0.000000\n",
       "50%     4.000000  87.500000  37.000000   1.000000\n",
       "75%     5.000000  90.000000  38.000000   1.000000\n",
       "max     9.000000  96.500000  41.500000   1.000000"
      ]
     },
     "execution_count": 40,
     "metadata": {},
     "output_type": "execute_result"
    }
   ],
   "source": [
    "training_set.describe()"
   ]
  },
  {
   "cell_type": "markdown",
   "id": "11503274",
   "metadata": {},
   "source": [
    "---\n",
    "\n",
    "# Step 2: Exploratory Data Analysis"
   ]
  },
  {
   "cell_type": "code",
   "execution_count": 41,
   "id": "5756d6f9",
   "metadata": {},
   "outputs": [],
   "source": [
    "# import visualization packages\n",
    "import matplotlib.pyplot as plt\n",
    "import seaborn as sns\n",
    "%matplotlib inline"
   ]
  },
  {
   "cell_type": "markdown",
   "id": "aef26dfe",
   "metadata": {},
   "source": [
    "### Correlation Matrix Heatmap"
   ]
  },
  {
   "cell_type": "code",
   "execution_count": 42,
   "id": "728edbc4",
   "metadata": {},
   "outputs": [
    {
     "data": {
      "text/plain": [
       "<AxesSubplot:>"
      ]
     },
     "execution_count": 42,
     "metadata": {},
     "output_type": "execute_result"
    },
    {
     "data": {
      "image/png": "[encoded data removed]",
      "text/plain": [
       "<Figure size 1080x576 with 2 Axes>"
      ]
     },
     "metadata": {},
     "output_type": "display_data"
    }
   ],
   "source": [
    "# calculate the correlation matrix\n",
    "corr_matrix = training_set.corr()\n",
    "\n",
    "# set larger plot size\n",
    "sns.set(rc = {'figure.figsize':(15,8)})\n",
    "\n",
    "# Generate a custom diverging colormap\n",
    "cmap = sns.diverging_palette(10, 133, as_cmap=True)\n",
    "\n",
    "# plot the heatmap\n",
    "sns.heatmap(corr_matrix,\n",
    "            annot=True,\n",
    "            cmap=cmap,\n",
    "            vmin=-1, \n",
    "            vmax=1,\n",
    "            xticklabels=corr_matrix.columns,\n",
    "            yticklabels=corr_matrix.columns,\n",
    "            center=0,\n",
    "            linewidths=.5)"
   ]
  },
  {
   "cell_type": "markdown",
   "id": "25fa664b",
   "metadata": {},
   "source": [
    "### Distributions"
   ]
  },
  {
   "cell_type": "code",
   "execution_count": 43,
   "id": "08014c81",
   "metadata": {
    "scrolled": false
   },
   "outputs": [
    {
     "data": {
      "text/plain": [
       "array([[<AxesSubplot:title={'center':'age'}>,\n",
       "        <AxesSubplot:title={'center':'totlngth'}>],\n",
       "       [<AxesSubplot:title={'center':'taill'}>,\n",
       "        <AxesSubplot:title={'center':'isMale'}>]], dtype=object)"
      ]
     },
     "execution_count": 43,
     "metadata": {},
     "output_type": "execute_result"
    },
    {
     "data": {
      "image/png": "[encoded data removed]",
      "text/plain": [
       "<Figure size 1440x1008 with 4 Axes>"
      ]
     },
     "metadata": {},
     "output_type": "display_data"
    }
   ],
   "source": [
    "training_set.hist(figsize=(20,14))"
   ]
  },
  {
   "cell_type": "markdown",
   "id": "b072d6f1",
   "metadata": {},
   "source": [
    "### Pairplots"
   ]
  },
  {
   "cell_type": "code",
   "execution_count": 44,
   "id": "a92891a9",
   "metadata": {
    "scrolled": false
   },
   "outputs": [
    {
     "data": {
      "text/plain": [
       "<seaborn.axisgrid.PairGrid at 0x218395fc640>"
      ]
     },
     "execution_count": 44,
     "metadata": {},
     "output_type": "execute_result"
    },
    {
     "data": {
      "image/png": "[encoded data removed]",
      "text/plain": [
       "<Figure size 585.725x540 with 12 Axes>"
      ]
     },
     "metadata": {},
     "output_type": "display_data"
    }
   ],
   "source": [
    "features = [\"age\", \"totlngth\", \"taill\", \"Pop\", \"isMale\"]\n",
    "\n",
    "sns.pairplot(training_set[features],\n",
    "            hue=\"isMale\")"
   ]
  },
  {
   "cell_type": "markdown",
   "id": "a206b343",
   "metadata": {},
   "source": [
    "---\n",
    "\n",
    "# Step 3: Prepare the Data"
   ]
  },
  {
   "cell_type": "markdown",
   "id": "ece5ca3b",
   "metadata": {},
   "source": [
    "### One-Hot Encode Categorical Features"
   ]
  },
  {
   "cell_type": "code",
   "execution_count": 45,
   "id": "5aaf4661",
   "metadata": {
    "scrolled": true
   },
   "outputs": [
    {
     "name": "stdout",
     "output_type": "stream",
     "text": [
      "<class 'pandas.core.frame.DataFrame'>\n",
      "Int64Index: 81 entries, 61 to 65\n",
      "Data columns (total 4 columns):\n",
      " #   Column    Non-Null Count  Dtype  \n",
      "---  ------    --------------  -----  \n",
      " 0   age       81 non-null     float64\n",
      " 1   totlngth  81 non-null     float64\n",
      " 2   taill     81 non-null     float64\n",
      " 3   Pop       81 non-null     object \n",
      "dtypes: float64(3), object(1)\n",
      "memory usage: 3.2+ KB\n"
     ]
    }
   ],
   "source": [
    "X_train.info()"
   ]
  },
  {
   "cell_type": "code",
   "execution_count": 46,
   "id": "116133f0",
   "metadata": {},
   "outputs": [
    {
     "data": {
      "text/html": [
       "<div>\n",
       "<style scoped>\n",
       "    .dataframe tbody tr th:only-of-type {\n",
       "        vertical-align: middle;\n",
       "    }\n",
       "\n",
       "    .dataframe tbody tr th {\n",
       "        vertical-align: top;\n",
       "    }\n",
       "\n",
       "    .dataframe thead th {\n",
       "        text-align: right;\n",
       "    }\n",
       "</style>\n",
       "<table border=\"1\" class=\"dataframe\">\n",
       "  <thead>\n",
       "    <tr style=\"text-align: right;\">\n",
       "      <th></th>\n",
       "      <th>age</th>\n",
       "      <th>totlngth</th>\n",
       "      <th>taill</th>\n",
       "      <th>Pop_other</th>\n",
       "    </tr>\n",
       "  </thead>\n",
       "  <tbody>\n",
       "    <tr>\n",
       "      <th>61</th>\n",
       "      <td>3.0</td>\n",
       "      <td>90.5</td>\n",
       "      <td>39.0</td>\n",
       "      <td>1</td>\n",
       "    </tr>\n",
       "    <tr>\n",
       "      <th>71</th>\n",
       "      <td>1.0</td>\n",
       "      <td>80.5</td>\n",
       "      <td>35.0</td>\n",
       "      <td>1</td>\n",
       "    </tr>\n",
       "    <tr>\n",
       "      <th>79</th>\n",
       "      <td>1.0</td>\n",
       "      <td>84.0</td>\n",
       "      <td>38.0</td>\n",
       "      <td>1</td>\n",
       "    </tr>\n",
       "    <tr>\n",
       "      <th>19</th>\n",
       "      <td>4.0</td>\n",
       "      <td>89.0</td>\n",
       "      <td>38.0</td>\n",
       "      <td>0</td>\n",
       "    </tr>\n",
       "    <tr>\n",
       "      <th>55</th>\n",
       "      <td>3.0</td>\n",
       "      <td>93.7</td>\n",
       "      <td>38.0</td>\n",
       "      <td>1</td>\n",
       "    </tr>\n",
       "  </tbody>\n",
       "</table>\n",
       "</div>"
      ],
      "text/plain": [
       "    age  totlngth  taill  Pop_other\n",
       "61  3.0      90.5   39.0          1\n",
       "71  1.0      80.5   35.0          1\n",
       "79  1.0      84.0   38.0          1\n",
       "19  4.0      89.0   38.0          0\n",
       "55  3.0      93.7   38.0          1"
      ]
     },
     "execution_count": 46,
     "metadata": {},
     "output_type": "execute_result"
    }
   ],
   "source": [
    "# One hot encode categorical features for the X_train and X_test sets\n",
    "\n",
    "X_train = pd.get_dummies(X_train, columns=['Pop'], drop_first=True)\n",
    "X_test = pd.get_dummies(X_test, columns=['Pop'], drop_first=True)\n",
    "\n",
    "X_train.head()"
   ]
  },
  {
   "cell_type": "markdown",
   "id": "9341bf49",
   "metadata": {},
   "source": [
    "### Check which features are continuous"
   ]
  },
  {
   "cell_type": "code",
   "execution_count": 47,
   "id": "4b20ee0f",
   "metadata": {},
   "outputs": [
    {
     "name": "stdout",
     "output_type": "stream",
     "text": [
      "<class 'pandas.core.frame.DataFrame'>\n",
      "Int64Index: 81 entries, 61 to 65\n",
      "Data columns (total 4 columns):\n",
      " #   Column     Non-Null Count  Dtype  \n",
      "---  ------     --------------  -----  \n",
      " 0   age        81 non-null     float64\n",
      " 1   totlngth   81 non-null     float64\n",
      " 2   taill      81 non-null     float64\n",
      " 3   Pop_other  81 non-null     uint8  \n",
      "dtypes: float64(3), uint8(1)\n",
      "memory usage: 2.6 KB\n"
     ]
    }
   ],
   "source": [
    "X_train.info()"
   ]
  },
  {
   "cell_type": "markdown",
   "id": "32f031fd",
   "metadata": {},
   "source": [
    "**Notes for Self:**\n",
    "    \n",
    "*Normalization or Min-Max Scaling* \n",
    "- The process of scaling data into a range of 0 - 1. \n",
    "- It's more useful and common for regression tasks.\n",
    "- Useful when there are no outliers as it cannot cope up with them. \n",
    "- Usually, we would scale age and not incomes because only a few people have high incomes but the age is close to uniform.\n",
    "- It is really affected by outliers.\n",
    "\n",
    "*Standardization or Z-Score Normalization*\n",
    "- The process of scaling data so that they have a mean value of 0 and a standard deviation of 1. \n",
    "- (Converts to Z-scores where they're units of standard deviation from the mean.)\n",
    "- It's more useful and common for classification tasks. \n",
    "- It is much less affected by outliers.\n",
    "\n",
    "Sources: \n",
    "https://stackabuse.com/feature-scaling-data-with-scikit-learn-for-machine-learning-in-python/\n",
    "https://www.geeksforgeeks.org/normalization-vs-standardization/"
   ]
  },
  {
   "cell_type": "markdown",
   "id": "f072264e",
   "metadata": {},
   "source": [
    "### Feature Scaling on Continuous Features with Standardization"
   ]
  },
  {
   "cell_type": "code",
   "execution_count": 48,
   "id": "f63d0cc8",
   "metadata": {},
   "outputs": [
    {
     "name": "stdout",
     "output_type": "stream",
     "text": [
      "(81, 4)\n"
     ]
    }
   ],
   "source": [
    "# import scaling & column transformer\n",
    "from sklearn.preprocessing import StandardScaler\n",
    "from sklearn.compose import ColumnTransformer\n",
    "\n",
    "# Create a function to scale the train and test sets\n",
    "\n",
    "def scaleCategoricalFeatures(X_data):\n",
    "    \n",
    "\n",
    "    # Select features to scale\n",
    "    features = [\"age\", \"totlngth\", \"taill\"]\n",
    "    \n",
    "    scaler = StandardScaler()\n",
    "\n",
    "    X_data[features] = scaler.fit_transform(X_data[features])\n",
    "    \n",
    "    return X_data\n",
    "\n",
    "X_train = scaleCategoricalFeatures(X_train)\n",
    "X_test = scaleCategoricalFeatures(X_test)\n",
    "\n",
    "print(X_train.shape)"
   ]
  },
  {
   "cell_type": "code",
   "execution_count": 49,
   "id": "8dec782f",
   "metadata": {},
   "outputs": [
    {
     "data": {
      "text/html": [
       "<div>\n",
       "<style scoped>\n",
       "    .dataframe tbody tr th:only-of-type {\n",
       "        vertical-align: middle;\n",
       "    }\n",
       "\n",
       "    .dataframe tbody tr th {\n",
       "        vertical-align: top;\n",
       "    }\n",
       "\n",
       "    .dataframe thead th {\n",
       "        text-align: right;\n",
       "    }\n",
       "</style>\n",
       "<table border=\"1\" class=\"dataframe\">\n",
       "  <thead>\n",
       "    <tr style=\"text-align: right;\">\n",
       "      <th></th>\n",
       "      <th>age</th>\n",
       "      <th>totlngth</th>\n",
       "      <th>taill</th>\n",
       "      <th>Pop_other</th>\n",
       "    </tr>\n",
       "  </thead>\n",
       "  <tbody>\n",
       "    <tr>\n",
       "      <th>61</th>\n",
       "      <td>-0.501833</td>\n",
       "      <td>0.805233</td>\n",
       "      <td>1.012218</td>\n",
       "      <td>1</td>\n",
       "    </tr>\n",
       "    <tr>\n",
       "      <th>71</th>\n",
       "      <td>-1.530907</td>\n",
       "      <td>-1.621250</td>\n",
       "      <td>-1.063469</td>\n",
       "      <td>1</td>\n",
       "    </tr>\n",
       "    <tr>\n",
       "      <th>79</th>\n",
       "      <td>-1.530907</td>\n",
       "      <td>-0.771981</td>\n",
       "      <td>0.493296</td>\n",
       "      <td>1</td>\n",
       "    </tr>\n",
       "    <tr>\n",
       "      <th>19</th>\n",
       "      <td>0.012705</td>\n",
       "      <td>0.441260</td>\n",
       "      <td>0.493296</td>\n",
       "      <td>0</td>\n",
       "    </tr>\n",
       "    <tr>\n",
       "      <th>55</th>\n",
       "      <td>-0.501833</td>\n",
       "      <td>1.581707</td>\n",
       "      <td>0.493296</td>\n",
       "      <td>1</td>\n",
       "    </tr>\n",
       "  </tbody>\n",
       "</table>\n",
       "</div>"
      ],
      "text/plain": [
       "         age  totlngth     taill  Pop_other\n",
       "61 -0.501833  0.805233  1.012218          1\n",
       "71 -1.530907 -1.621250 -1.063469          1\n",
       "79 -1.530907 -0.771981  0.493296          1\n",
       "19  0.012705  0.441260  0.493296          0\n",
       "55 -0.501833  1.581707  0.493296          1"
      ]
     },
     "execution_count": 49,
     "metadata": {},
     "output_type": "execute_result"
    }
   ],
   "source": [
    "# see all columns\n",
    "pd.set_option('display.max_columns', None)\n",
    "\n",
    "X_train.head()"
   ]
  },
  {
   "cell_type": "markdown",
   "id": "da52df43",
   "metadata": {},
   "source": [
    "### Make sure it worked by seeing if Standard Deviations are 1"
   ]
  },
  {
   "cell_type": "code",
   "execution_count": 50,
   "id": "582595a6",
   "metadata": {},
   "outputs": [
    {
     "data": {
      "text/html": [
       "<div>\n",
       "<style scoped>\n",
       "    .dataframe tbody tr th:only-of-type {\n",
       "        vertical-align: middle;\n",
       "    }\n",
       "\n",
       "    .dataframe tbody tr th {\n",
       "        vertical-align: top;\n",
       "    }\n",
       "\n",
       "    .dataframe thead th {\n",
       "        text-align: right;\n",
       "    }\n",
       "</style>\n",
       "<table border=\"1\" class=\"dataframe\">\n",
       "  <thead>\n",
       "    <tr style=\"text-align: right;\">\n",
       "      <th></th>\n",
       "      <th>age</th>\n",
       "      <th>totlngth</th>\n",
       "      <th>taill</th>\n",
       "      <th>Pop_other</th>\n",
       "    </tr>\n",
       "  </thead>\n",
       "  <tbody>\n",
       "    <tr>\n",
       "      <th>count</th>\n",
       "      <td>8.100000e+01</td>\n",
       "      <td>8.100000e+01</td>\n",
       "      <td>8.100000e+01</td>\n",
       "      <td>81.000000</td>\n",
       "    </tr>\n",
       "    <tr>\n",
       "      <th>mean</th>\n",
       "      <td>1.123929e-16</td>\n",
       "      <td>-5.585381e-16</td>\n",
       "      <td>1.766762e-15</td>\n",
       "      <td>0.604938</td>\n",
       "    </tr>\n",
       "    <tr>\n",
       "      <th>std</th>\n",
       "      <td>1.006231e+00</td>\n",
       "      <td>1.006231e+00</td>\n",
       "      <td>1.006231e+00</td>\n",
       "      <td>0.491910</td>\n",
       "    </tr>\n",
       "    <tr>\n",
       "      <th>min</th>\n",
       "      <td>-1.530907e+00</td>\n",
       "      <td>-2.470518e+00</td>\n",
       "      <td>-2.620234e+00</td>\n",
       "      <td>0.000000</td>\n",
       "    </tr>\n",
       "    <tr>\n",
       "      <th>25%</th>\n",
       "      <td>-5.018327e-01</td>\n",
       "      <td>-7.719809e-01</td>\n",
       "      <td>-5.445474e-01</td>\n",
       "      <td>0.000000</td>\n",
       "    </tr>\n",
       "    <tr>\n",
       "      <th>50%</th>\n",
       "      <td>1.270462e-02</td>\n",
       "      <td>7.728796e-02</td>\n",
       "      <td>-2.562576e-02</td>\n",
       "      <td>1.000000</td>\n",
       "    </tr>\n",
       "    <tr>\n",
       "      <th>75%</th>\n",
       "      <td>5.272419e-01</td>\n",
       "      <td>6.839085e-01</td>\n",
       "      <td>4.932959e-01</td>\n",
       "      <td>1.000000</td>\n",
       "    </tr>\n",
       "    <tr>\n",
       "      <th>max</th>\n",
       "      <td>2.585391e+00</td>\n",
       "      <td>2.261122e+00</td>\n",
       "      <td>2.309522e+00</td>\n",
       "      <td>1.000000</td>\n",
       "    </tr>\n",
       "  </tbody>\n",
       "</table>\n",
       "</div>"
      ],
      "text/plain": [
       "                age      totlngth         taill  Pop_other\n",
       "count  8.100000e+01  8.100000e+01  8.100000e+01  81.000000\n",
       "mean   1.123929e-16 -5.585381e-16  1.766762e-15   0.604938\n",
       "std    1.006231e+00  1.006231e+00  1.006231e+00   0.491910\n",
       "min   -1.530907e+00 -2.470518e+00 -2.620234e+00   0.000000\n",
       "25%   -5.018327e-01 -7.719809e-01 -5.445474e-01   0.000000\n",
       "50%    1.270462e-02  7.728796e-02 -2.562576e-02   1.000000\n",
       "75%    5.272419e-01  6.839085e-01  4.932959e-01   1.000000\n",
       "max    2.585391e+00  2.261122e+00  2.309522e+00   1.000000"
      ]
     },
     "execution_count": 50,
     "metadata": {},
     "output_type": "execute_result"
    }
   ],
   "source": [
    "X_train.describe()"
   ]
  },
  {
   "cell_type": "code",
   "execution_count": 51,
   "id": "d5edefe6",
   "metadata": {},
   "outputs": [
    {
     "name": "stdout",
     "output_type": "stream",
     "text": [
      "<class 'pandas.core.frame.DataFrame'>\n",
      "Int64Index: 81 entries, 61 to 65\n",
      "Data columns (total 4 columns):\n",
      " #   Column     Non-Null Count  Dtype  \n",
      "---  ------     --------------  -----  \n",
      " 0   age        81 non-null     float64\n",
      " 1   totlngth   81 non-null     float64\n",
      " 2   taill      81 non-null     float64\n",
      " 3   Pop_other  81 non-null     uint8  \n",
      "dtypes: float64(3), uint8(1)\n",
      "memory usage: 2.6 KB\n"
     ]
    }
   ],
   "source": [
    "X_train.info()"
   ]
  },
  {
   "cell_type": "markdown",
   "id": "1af50d19",
   "metadata": {},
   "source": [
    "---\n",
    "\n",
    "# Step 4: Principal Component Analysis\n",
    "    \n",
    "- Feature selection and exploration "
   ]
  },
  {
   "cell_type": "markdown",
   "id": "eb35c763",
   "metadata": {},
   "source": [
    "### Conduct PCA for 95% variance"
   ]
  },
  {
   "cell_type": "code",
   "execution_count": 23,
   "id": "97c3d916",
   "metadata": {},
   "outputs": [
    {
     "name": "stdout",
     "output_type": "stream",
     "text": [
      "--------------------Explained variance ratio--------------------\n",
      "[0.36352435 0.11451153 0.10072787 0.07322482 0.06730468 0.05823753\n",
      " 0.03731313 0.03478141 0.02530933 0.02350666 0.02075923 0.01498828\n",
      " 0.01267715 0.01126735]\n"
     ]
    }
   ],
   "source": [
    "from sklearn.decomposition import PCA\n",
    "\n",
    "# create instance of PCA with enough features to capture 95% of the variance\n",
    "pca = PCA(n_components=0.95,\n",
    "         random_state=42)\n",
    "\n",
    "# fit PCA model to the scaled data\n",
    "pca.fit(X_train)\n",
    "\n",
    "print('-'*20 + 'Explained variance ratio' + '-'*20)\n",
    "print(pca.explained_variance_ratio_)"
   ]
  },
  {
   "cell_type": "markdown",
   "id": "300744c4",
   "metadata": {},
   "source": [
    "The first component accounts for about 36% of the variance.\n",
    "\n",
    "The first two components account for about 48% of the variance.\n",
    "\n",
    "The first three components account for about 58% of the variance.\n",
    "\n",
    "For 95% variance, PCA has reduced the 22 features down to 14."
   ]
  },
  {
   "cell_type": "markdown",
   "id": "87978b96",
   "metadata": {},
   "source": [
    "### Components Heatmap"
   ]
  },
  {
   "cell_type": "code",
   "execution_count": 24,
   "id": "8cf75cbd",
   "metadata": {},
   "outputs": [
    {
     "data": {
      "text/plain": [
       "Text(0, 0.5, 'Principal components')"
      ]
     },
     "execution_count": 24,
     "metadata": {},
     "output_type": "execute_result"
    },
    {
     "data": {
      "image/png": "[encoded data removed]",
      "text/plain": [
       "<Figure size 905.143x576 with 2 Axes>"
      ]
     },
     "metadata": {},
     "output_type": "display_data"
    }
   ],
   "source": [
    "plt.matshow(pca.components_, cmap='viridis')\n",
    "\n",
    "plt.colorbar()\n",
    "\n",
    "plt.xticks(range(len(X_train.columns)),\n",
    "           X_train.columns, rotation=60, ha='left')\n",
    "\n",
    "# hide overlappint gridlines\n",
    "plt.grid(b=None)\n",
    "\n",
    "plt.xlabel(\"Feature\")\n",
    "plt.ylabel(\"Principal components\")"
   ]
  },
  {
   "cell_type": "markdown",
   "id": "99365780",
   "metadata": {},
   "source": [
    "For the first component, the more extreme features with opposite signs are:\n",
    "- Postive: The six main stats, Experience to level 100, Height, Weight\n",
    "- Negative: Catch Rates\n",
    "\n",
    "Along the \"axis\" of the first component, the stronger, bigger, and the more effort it takes to train the Pokemon, the harder it is to catch.\n",
    "\n",
    "---\n",
    "\n",
    "For the second component, the more extreme features with opposite signs are:\n",
    "- Positive: Weight, Height, Catch Rate, Defence, and HP\n",
    "- Negative: Spa, Spd, Spe\n",
    "\n",
    "Along the \"axis\" of the second component, the bigger and bulkier a Pokemon's stats, the slower and less \"Special\" stats they would have. And the smaller and more prone to damage a Pokemon is, the faster and higher \"Special\" stats they would have\"."
   ]
  },
  {
   "cell_type": "markdown",
   "id": "7de96bcb",
   "metadata": {},
   "source": [
    "### Create a PCA train and test sets\n",
    "\n",
    "- Models will be trained on both for comparisons"
   ]
  },
  {
   "cell_type": "code",
   "execution_count": 25,
   "id": "cd32a4a1",
   "metadata": {},
   "outputs": [
    {
     "name": "stdout",
     "output_type": "stream",
     "text": [
      "(785, 14)\n",
      "(197, 14)\n"
     ]
    }
   ],
   "source": [
    "# Transform X_sets with PCA\n",
    "X_train_pca = pca.transform(X_train)\n",
    "X_test_pca = pca.transform(X_test)\n",
    "\n",
    "print(X_train_pca.shape)\n",
    "print(X_test_pca.shape)"
   ]
  },
  {
   "cell_type": "markdown",
   "id": "df58b9c0",
   "metadata": {},
   "source": [
    "---\n",
    "\n",
    "# Step 5: Supervised Models\n",
    "\n",
    "The first algorithm I am using is Gradient Boosted Decision Trees.\n",
    "\n",
    "They are useful for their feature importance scores. It's helpful for feature selection.\n",
    "\n",
    "They also might be better than random forests because each \"tree\" iteration is used to \"fix\" a previous trees errors."
   ]
  },
  {
   "cell_type": "markdown",
   "id": "7b437dc6",
   "metadata": {},
   "source": [
    "---\n",
    "\n",
    "## Model 1: Gradient Boosted Decision Trees"
   ]
  },
  {
   "cell_type": "markdown",
   "id": "1924ce2c",
   "metadata": {},
   "source": [
    "### Gradient Boosted Decision Trees+ Cross Validation Scores"
   ]
  },
  {
   "cell_type": "code",
   "execution_count": 26,
   "id": "6d9dfb82",
   "metadata": {},
   "outputs": [
    {
     "name": "stdout",
     "output_type": "stream",
     "text": [
      "Mean of cv_scores (regular): 0.9299363057324841\n",
      "\n",
      "Mean of cv_scores (with pca): 0.932484076433121\n"
     ]
    }
   ],
   "source": [
    "# Create instances of Gradient Boosted Decision Tree --------------------\n",
    "from sklearn.ensemble import GradientBoostingClassifier\n",
    "\n",
    "boosted_tree = GradientBoostingClassifier(n_estimators=100, random_state=42)\n",
    "boosted_tree_pca = GradientBoostingClassifier(n_estimators=100, random_state=42)\n",
    "\n",
    "\n",
    "# Fit both instances ----------------------------------------------------\n",
    "\n",
    "boosted_tree.fit(X_train, y_train)\n",
    "boosted_tree_pca.fit(X_train_pca, y_train)\n",
    "\n",
    "\n",
    "# Conduct Cross-Valation with Stratified Shuffle Split -----------------\n",
    "from sklearn.model_selection import StratifiedShuffleSplit\n",
    "from sklearn.model_selection import cross_val_score\n",
    "\n",
    "sss = StratifiedShuffleSplit(n_splits=5,\n",
    "                               test_size=0.2, \n",
    "                               random_state=42)\n",
    "\n",
    "cv_scores_regular = cross_val_score(boosted_tree, X_train, y_train, cv=sss)\n",
    "cv_scores_with_pca = cross_val_score(boosted_tree_pca, X_train_pca, y_train, cv=sss)\n",
    "\n",
    "print(\"Mean of cv_scores (regular): {}\\n\".format(np.mean(cv_scores_regular)))\n",
    "\n",
    "print(\"Mean of cv_scores (with pca): {}\".format(np.mean(cv_scores_with_pca)))"
   ]
  },
  {
   "cell_type": "markdown",
   "id": "9b582a31",
   "metadata": {},
   "source": [
    "It seems with PCA, performance on the training set has slightly increased."
   ]
  },
  {
   "cell_type": "markdown",
   "id": "0fed1d2a",
   "metadata": {},
   "source": [
    "### Visualize Feature Importance"
   ]
  },
  {
   "cell_type": "code",
   "execution_count": 27,
   "id": "aa258d91",
   "metadata": {},
   "outputs": [
    {
     "data": {
      "image/png": "[encoded data removed]",
      "text/plain": [
       "<Figure size 1080x576 with 1 Axes>"
      ]
     },
     "metadata": {},
     "output_type": "display_data"
    }
   ],
   "source": [
    "def plot_feature_importances(model, X_data, isPCA):\n",
    "    \n",
    "    n_features = X_data.shape[1]\n",
    "    \n",
    "    plt.barh(np.arange(n_features), model.feature_importances_, align='center')\n",
    "    \n",
    "    if not isPCA:\n",
    "        plt.yticks(np.arange(n_features), X_data.columns)\n",
    "    \n",
    "    plt.xlabel(\"Feature importance\")\n",
    "    plt.ylabel(\"Feature\")\n",
    "    plt.ylim(-1, n_features)\n",
    "\n",
    "plot_feature_importances(model = boosted_tree, \n",
    "                         X_data = X_train, \n",
    "                         isPCA = False)"
   ]
  },
  {
   "cell_type": "markdown",
   "id": "921d6d02",
   "metadata": {},
   "source": [
    "According to the Gradient Boosted Decision Tree, \"Generation\" is not very important when predicting isDragon.\n",
    "\n",
    "And it seems the only experience type that is important for predicting isDragon is \"Slow,\" which is also the most important."
   ]
  },
  {
   "cell_type": "markdown",
   "id": "11320391",
   "metadata": {},
   "source": [
    "### Remove the features that have the lowest feature importance\n",
    "\n",
    "- Less importance may mean the features are just adding noise, so removing them may increase performance."
   ]
  },
  {
   "cell_type": "code",
   "execution_count": 28,
   "id": "43242e95",
   "metadata": {},
   "outputs": [
    {
     "name": "stdout",
     "output_type": "stream",
     "text": [
      "(785, 14)\n",
      "(197, 14)\n"
     ]
    }
   ],
   "source": [
    "# Remove unwanted features and unwanted components\n",
    "\n",
    "features_to_drop = [\"Experience type_Medium Slow\", \"Experience type_Medium Fast\",\n",
    "                    \"Experience type_Fluctuating\", \"Experience type_Fast\",\n",
    "                    \"Generation_7.0\", \"Generation_5.0\",\n",
    "                    \"Generation_4.0\", \"Generation_2.0\"]\n",
    "\n",
    "X_train = X_train.drop(features_to_drop, axis=1)\n",
    "X_test = X_test.drop(features_to_drop, axis=1)\n",
    "\n",
    "print(X_train.shape)\n",
    "print(X_test.shape)"
   ]
  },
  {
   "cell_type": "markdown",
   "id": "a5151020",
   "metadata": {},
   "source": [
    "### Run PCA on Reduced Features"
   ]
  },
  {
   "cell_type": "code",
   "execution_count": 29,
   "id": "4fa6984e",
   "metadata": {},
   "outputs": [
    {
     "name": "stdout",
     "output_type": "stream",
     "text": [
      "--------------------Explained variance ratio--------------------\n",
      "[0.39361012 0.12435427 0.10785925 0.07873411 0.07274921 0.06233144\n",
      " 0.03977139 0.03477839 0.02673412 0.02307319]\n"
     ]
    }
   ],
   "source": [
    "from sklearn.decomposition import PCA\n",
    "\n",
    "# create instance of PCA with enough features to capture 95% of the variance\n",
    "pca = PCA(n_components=0.95,\n",
    "         random_state=42)\n",
    "\n",
    "# fit PCA model to the scaled data\n",
    "pca.fit(X_train)\n",
    "\n",
    "print('-'*20 + 'Explained variance ratio' + '-'*20)\n",
    "print(pca.explained_variance_ratio_)"
   ]
  },
  {
   "cell_type": "markdown",
   "id": "0f395a55",
   "metadata": {},
   "source": [
    "### Heatmap of New Components"
   ]
  },
  {
   "cell_type": "code",
   "execution_count": 30,
   "id": "f444767e",
   "metadata": {},
   "outputs": [
    {
     "data": {
      "text/plain": [
       "Text(0, 0.5, 'Principal components')"
      ]
     },
     "execution_count": 30,
     "metadata": {},
     "output_type": "execute_result"
    },
    {
     "data": {
      "image/png": "[encoded data removed]",
      "text/plain": [
       "<Figure size 806.4x576 with 2 Axes>"
      ]
     },
     "metadata": {},
     "output_type": "display_data"
    }
   ],
   "source": [
    "plt.matshow(pca.components_, cmap='viridis')\n",
    "\n",
    "plt.colorbar()\n",
    "\n",
    "plt.xticks(range(len(X_train.columns)),\n",
    "           X_train.columns, rotation=60, ha='left')\n",
    "\n",
    "# hide overlappint gridlines\n",
    "plt.grid(b=None)\n",
    "\n",
    "plt.xlabel(\"Feature\")\n",
    "plt.ylabel(\"Principal components\")"
   ]
  },
  {
   "cell_type": "markdown",
   "id": "40d080bf",
   "metadata": {},
   "source": [
    "### Create new PCA Train Test Sets"
   ]
  },
  {
   "cell_type": "code",
   "execution_count": 31,
   "id": "4daae350",
   "metadata": {},
   "outputs": [
    {
     "name": "stdout",
     "output_type": "stream",
     "text": [
      "(785, 10)\n",
      "(197, 10)\n"
     ]
    }
   ],
   "source": [
    "# Transform X_sets with PCA\n",
    "X_train_pca = pca.transform(X_train)\n",
    "X_test_pca = pca.transform(X_test)\n",
    "\n",
    "print(X_train_pca.shape)\n",
    "print(X_test_pca.shape)"
   ]
  },
  {
   "cell_type": "markdown",
   "id": "24d690c2",
   "metadata": {},
   "source": [
    "### Refit the Gradient Boosted Decision Trees (With the reduced features)\n"
   ]
  },
  {
   "cell_type": "code",
   "execution_count": 32,
   "id": "c34c96e1",
   "metadata": {},
   "outputs": [
    {
     "name": "stdout",
     "output_type": "stream",
     "text": [
      "Mean of cv_scores (regular): 0.9312101910828027\n",
      "\n",
      "Mean of cv_scores (with pca): 0.9299363057324841\n"
     ]
    }
   ],
   "source": [
    "# Create instances of Gradient Boosted Decision Tree --------------------\n",
    "from sklearn.ensemble import GradientBoostingClassifier\n",
    "\n",
    "boosted_tree = GradientBoostingClassifier(n_estimators=100, random_state=42)\n",
    "boosted_tree_pca = GradientBoostingClassifier(n_estimators=100, random_state=42)\n",
    "\n",
    "\n",
    "# Fit both instances ----------------------------------------------------\n",
    "\n",
    "boosted_tree.fit(X_train, y_train)\n",
    "boosted_tree_pca.fit(X_train_pca, y_train)\n",
    "\n",
    "\n",
    "# Conduct Cross-Valation with Stratified Shuffle Split -----------------\n",
    "from sklearn.model_selection import StratifiedShuffleSplit\n",
    "from sklearn.model_selection import cross_val_score\n",
    "\n",
    "sss = StratifiedShuffleSplit(n_splits=5,\n",
    "                               test_size=0.2, \n",
    "                               random_state=42)\n",
    "\n",
    "cv_scores_regular = cross_val_score(boosted_tree, X_train, y_train, cv=sss)\n",
    "cv_scores_with_pca = cross_val_score(boosted_tree_pca, X_train_pca, y_train, cv=sss)\n",
    "\n",
    "print(\"Mean of cv_scores (regular): {}\\n\".format(np.mean(cv_scores_regular)))\n",
    "\n",
    "print(\"Mean of cv_scores (with pca): {}\".format(np.mean(cv_scores_with_pca)))"
   ]
  },
  {
   "cell_type": "markdown",
   "id": "eed76759",
   "metadata": {},
   "source": [
    "It seems with reduced features, the performance is generally the same, so the removed features did not contribute much to the model."
   ]
  },
  {
   "cell_type": "markdown",
   "id": "799770c3",
   "metadata": {},
   "source": [
    "---\n",
    "\n",
    "## Model 2: Decision Tree"
   ]
  },
  {
   "cell_type": "code",
   "execution_count": 33,
   "id": "03bd170d",
   "metadata": {
    "scrolled": true
   },
   "outputs": [
    {
     "name": "stdout",
     "output_type": "stream",
     "text": [
      "Mean of cv_scores (regular): 0.9031847133757962\n",
      "\n",
      "Mean of cv_scores (with pca): 0.9095541401273884\n"
     ]
    }
   ],
   "source": [
    "# Create instances of Decision Trees --------------------\n",
    "\n",
    "from sklearn.tree import DecisionTreeClassifier\n",
    "\n",
    "tree = DecisionTreeClassifier(random_state=42)\n",
    "tree_pca = DecisionTreeClassifier(random_state=42)\n",
    "\n",
    "\n",
    "\n",
    "# Fit both instances ----------------------------------------------------\n",
    "\n",
    "tree.fit(X_train, y_train)\n",
    "tree_pca.fit(X_train_pca, y_train)\n",
    "\n",
    "\n",
    "\n",
    "# Conduct Cross-Valation with Stratified Shuffle Split -----------------\n",
    "from sklearn.model_selection import StratifiedShuffleSplit\n",
    "from sklearn.model_selection import cross_val_score\n",
    "\n",
    "sss = StratifiedShuffleSplit(n_splits=5,\n",
    "                               test_size=0.2, \n",
    "                               random_state=42)\n",
    "\n",
    "cv_scores_regular = cross_val_score(tree, X_train, y_train, cv=sss)\n",
    "cv_scores_with_pca = cross_val_score(tree_pca, X_train_pca, y_train, cv=sss)\n",
    "\n",
    "print(\"Mean of cv_scores (regular): {}\\n\".format(np.mean(cv_scores_regular)))\n",
    "\n",
    "print(\"Mean of cv_scores (with pca): {}\".format(np.mean(cv_scores_with_pca)))"
   ]
  },
  {
   "cell_type": "markdown",
   "id": "46a0d41c",
   "metadata": {},
   "source": [
    "It seems Decision Tree does fairly well with slightly reduced performance."
   ]
  },
  {
   "cell_type": "markdown",
   "id": "8ad51b43",
   "metadata": {},
   "source": [
    "---\n",
    "\n",
    "## Model 3: Random Forest"
   ]
  },
  {
   "cell_type": "code",
   "execution_count": 34,
   "id": "b1ed5e5e",
   "metadata": {},
   "outputs": [
    {
     "name": "stdout",
     "output_type": "stream",
     "text": [
      "Mean of cv_scores (regular): 0.9414012738853502\n",
      "\n",
      "Mean of cv_scores (with pca): 0.9337579617834395\n"
     ]
    }
   ],
   "source": [
    "# Create instances of Forests --------------------\n",
    "from sklearn.ensemble import RandomForestClassifier\n",
    "\n",
    "forest = RandomForestClassifier(random_state=42)\n",
    "forest_pca = RandomForestClassifier(random_state=42)\n",
    "\n",
    "\n",
    "# Fit both instances ----------------------------------------------------\n",
    "forest.fit(X_train, y_train)\n",
    "forest_pca.fit(X_train, y_train)\n",
    "\n",
    "\n",
    "# Conduct Cross-Valation with Stratified Shuffle Split -----------------\n",
    "from sklearn.model_selection import StratifiedShuffleSplit\n",
    "from sklearn.model_selection import cross_val_score\n",
    "\n",
    "sss = StratifiedShuffleSplit(n_splits=5,\n",
    "                               test_size=0.2, \n",
    "                               random_state=42)\n",
    "\n",
    "cv_scores_regular = cross_val_score(forest, X_train, y_train, cv=sss)\n",
    "cv_scores_with_pca = cross_val_score(forest_pca, X_train_pca, y_train, cv=sss)\n",
    "\n",
    "print(\"Mean of cv_scores (regular): {}\\n\".format(np.mean(cv_scores_regular)))\n",
    "print(\"Mean of cv_scores (with pca): {}\".format(np.mean(cv_scores_with_pca)))"
   ]
  },
  {
   "cell_type": "markdown",
   "id": "832f9167",
   "metadata": {},
   "source": [
    "---\n",
    "\n",
    "## Model 4: K-Nearest Neighbors"
   ]
  },
  {
   "cell_type": "code",
   "execution_count": 35,
   "id": "22afe6c8",
   "metadata": {},
   "outputs": [
    {
     "name": "stdout",
     "output_type": "stream",
     "text": [
      "Mean of cv_scores (regular): 0.9363057324840766\n",
      "\n",
      "Mean of cv_scores (with pca): 0.9401273885350319\n"
     ]
    }
   ],
   "source": [
    "# Create instances of KNN --------------------\n",
    "from sklearn.neighbors import KNeighborsClassifier\n",
    "\n",
    "KNN = KNeighborsClassifier()\n",
    "KNN_pca = KNeighborsClassifier()\n",
    "\n",
    "\n",
    "# Fit both instances ----------------------------------------------------\n",
    "KNN.fit(X_train, y_train)\n",
    "KNN_pca.fit(X_train_pca, y_train)\n",
    "\n",
    "\n",
    "# Conduct Cross-Valation with Stratified Shuffle Split -----------------\n",
    "from sklearn.model_selection import StratifiedShuffleSplit\n",
    "from sklearn.model_selection import cross_val_score\n",
    "\n",
    "sss = StratifiedShuffleSplit(n_splits=5,\n",
    "                               test_size=0.2, \n",
    "                               random_state=42)\n",
    "\n",
    "cv_scores_regular = cross_val_score(KNN, X_train, y_train, cv=sss)\n",
    "cv_scores_with_pca = cross_val_score(KNN_pca, X_train_pca, y_train, cv=sss)\n",
    "\n",
    "print(\"Mean of cv_scores (regular): {}\\n\".format(np.mean(cv_scores_regular)))\n",
    "print(\"Mean of cv_scores (with pca): {}\".format(np.mean(cv_scores_with_pca)))"
   ]
  },
  {
   "cell_type": "markdown",
   "id": "8b8f1a5e",
   "metadata": {},
   "source": [
    "---\n",
    "\n",
    "## Model 5: Logistic Regression"
   ]
  },
  {
   "cell_type": "code",
   "execution_count": 36,
   "id": "3e0a09a3",
   "metadata": {},
   "outputs": [
    {
     "name": "stdout",
     "output_type": "stream",
     "text": [
      "Mean of cv_scores (regular): 0.935031847133758\n",
      "\n",
      "Mean of cv_scores (with pca): 0.935031847133758\n"
     ]
    }
   ],
   "source": [
    "# Create instances of LogisticRegression --------------------\n",
    "from sklearn.linear_model import LogisticRegression\n",
    "\n",
    "log = LogisticRegression().fit(X_train, y_train)\n",
    "log_pca = LogisticRegression().fit(X_train, y_train)\n",
    "\n",
    "\n",
    "# Fit both instances ----------------------------------------------------\n",
    "log.fit(X_train, y_train)\n",
    "log_pca.fit(X_train, y_train)\n",
    "\n",
    "\n",
    "# Conduct Cross-Valation with Stratified Shuffle Split -----------------\n",
    "from sklearn.model_selection import StratifiedShuffleSplit\n",
    "from sklearn.model_selection import cross_val_score\n",
    "\n",
    "sss = StratifiedShuffleSplit(n_splits=5,\n",
    "                               test_size=0.2, \n",
    "                               random_state=42)\n",
    "\n",
    "cv_scores_regular = cross_val_score(log, X_train, y_train, cv=sss)\n",
    "cv_scores_with_pca = cross_val_score(log_pca, X_train_pca, y_train, cv=sss)\n",
    "\n",
    "print(\"Mean of cv_scores (regular): {}\\n\".format(np.mean(cv_scores_regular)))\n",
    "print(\"Mean of cv_scores (with pca): {}\".format(np.mean(cv_scores_with_pca)))"
   ]
  },
  {
   "cell_type": "markdown",
   "id": "85efbc65",
   "metadata": {},
   "source": [
    "The similar scores above is odd.\n",
    "\n",
    "I will check the unique values of the predictions just in case.\n",
    "\n",
    "(It's to make sure the model isn't predicting all as one class.)"
   ]
  },
  {
   "cell_type": "code",
   "execution_count": 37,
   "id": "2200ef91",
   "metadata": {},
   "outputs": [
    {
     "data": {
      "text/plain": [
       "{0: 775, 1: 10}"
      ]
     },
     "execution_count": 37,
     "metadata": {},
     "output_type": "execute_result"
    }
   ],
   "source": [
    "y_pred = log.predict(X_train)\n",
    "\n",
    "unique, counts = np.unique(y_pred, return_counts=True)\n",
    "\n",
    "dict(zip(unique, counts))"
   ]
  },
  {
   "cell_type": "markdown",
   "id": "6fb2ab95",
   "metadata": {},
   "source": [
    "---\n",
    "\n",
    "## Model 6: Linear Suppor Vector Classifier (SVC or SVM)"
   ]
  },
  {
   "cell_type": "code",
   "execution_count": 38,
   "id": "52dadd79",
   "metadata": {},
   "outputs": [
    {
     "name": "stdout",
     "output_type": "stream",
     "text": [
      "Mean of cv_scores (regular): 0.935031847133758\n",
      "\n",
      "Mean of cv_scores (with pca): 0.9337579617834397\n"
     ]
    }
   ],
   "source": [
    "# Create instances of linear svm --------------------\n",
    "from sklearn.svm import LinearSVC\n",
    "\n",
    "linear_svm = LinearSVC().fit(X_train, y_train) \n",
    "linear_svm_pca = LinearSVC().fit(X_train, y_train) \n",
    "\n",
    "\n",
    "# Fit both instances ----------------------------------------------------\n",
    "linear_svm.fit(X_train, y_train)\n",
    "linear_svm_pca.fit(X_train, y_train)\n",
    "\n",
    "\n",
    "# Conduct Cross-Valation with Stratified Shuffle Split -----------------\n",
    "from sklearn.model_selection import StratifiedShuffleSplit\n",
    "from sklearn.model_selection import cross_val_score\n",
    "\n",
    "sss = StratifiedShuffleSplit(n_splits=5,\n",
    "                               test_size=0.2, \n",
    "                               random_state=42)\n",
    "\n",
    "cv_scores_regular = cross_val_score(linear_svm, X_train, y_train, cv=sss)\n",
    "cv_scores_with_pca = cross_val_score(linear_svm_pca, X_train_pca, y_train, cv=sss)\n",
    "\n",
    "print(\"Mean of cv_scores (regular): {}\\n\".format(np.mean(cv_scores_regular)))\n",
    "print(\"Mean of cv_scores (with pca): {}\".format(np.mean(cv_scores_with_pca)))"
   ]
  },
  {
   "cell_type": "markdown",
   "id": "c4f8ac9c",
   "metadata": {},
   "source": [
    "---\n",
    "\n",
    "## Model 7: Kernel SVM"
   ]
  },
  {
   "cell_type": "code",
   "execution_count": 39,
   "id": "c24f6a2b",
   "metadata": {},
   "outputs": [
    {
     "name": "stdout",
     "output_type": "stream",
     "text": [
      "Mean of cv_scores (regular): 0.9363057324840763\n",
      "\n",
      "Mean of cv_scores (with pca): 0.9363057324840763\n"
     ]
    }
   ],
   "source": [
    "# Create instances of kernel SVM --------------------\n",
    "from sklearn.svm import SVC\n",
    "\n",
    "SVM = SVC()\n",
    "SVM_pca = SVC()\n",
    "\n",
    "# Fit both instances ----------------------------------------------------\n",
    "SVM.fit(X_train, y_train)\n",
    "SVM_pca.fit(X_train, y_train)\n",
    "\n",
    "\n",
    "# Conduct Cross-Valation with Stratified Shuffle Split -----------------\n",
    "from sklearn.model_selection import StratifiedShuffleSplit\n",
    "from sklearn.model_selection import cross_val_score\n",
    "\n",
    "sss = StratifiedShuffleSplit(n_splits=5,\n",
    "                               test_size=0.2, \n",
    "                               random_state=42)\n",
    "\n",
    "cv_scores_regular = cross_val_score(SVM, X_train, y_train, cv=sss)\n",
    "cv_scores_with_pca = cross_val_score(SVM_pca, X_train_pca, y_train, cv=sss)\n",
    "\n",
    "print(\"Mean of cv_scores (regular): {}\\n\".format(np.mean(cv_scores_regular)))\n",
    "print(\"Mean of cv_scores (with pca): {}\".format(np.mean(cv_scores_with_pca)))"
   ]
  },
  {
   "cell_type": "markdown",
   "id": "268fbf37",
   "metadata": {},
   "source": [
    "The similar scores above is odd.\n",
    "\n",
    "I will check the unique values of the predictions just in case.\n",
    "\n",
    "(It's to make sure the model isn't predicting all as one class.)"
   ]
  },
  {
   "cell_type": "code",
   "execution_count": 40,
   "id": "a2b7adbb",
   "metadata": {},
   "outputs": [
    {
     "data": {
      "text/plain": [
       "{0: 774, 1: 11}"
      ]
     },
     "execution_count": 40,
     "metadata": {},
     "output_type": "execute_result"
    }
   ],
   "source": [
    "y_pred = SVM.predict(X_train)\n",
    "\n",
    "unique, counts = np.unique(y_pred, return_counts=True)\n",
    "\n",
    "dict(zip(unique, counts))"
   ]
  },
  {
   "cell_type": "markdown",
   "id": "2394943f",
   "metadata": {},
   "source": [
    "---\n",
    "\n",
    "**Mean cross-validation scores of each model (Rounded to three decimal points):**\n",
    "    \n",
    "The models have been sorted by mean_cv score of non-pca."
   ]
  },
  {
   "cell_type": "markdown",
   "id": "fa5f22a1",
   "metadata": {},
   "source": [
    "|        **Model** \t| **mean_cv Score** \t|\n",
    "|-----------------:\t|:-----------------:\t|\n",
    "|           forest \t|     **0.941**     \t|\n",
    "|       forest_pca \t|     **0.934**     \t|\n",
    "|              KNN \t|     **0.936**     \t|\n",
    "|          KNN_pca \t|     **0.940**     \t|\n",
    "|              SVM \t|       0.936       \t|\n",
    "|          SVM_pca \t|       0.936       \t|\n",
    "|       linear_svm \t|       0.936       \t|\n",
    "|   linear_svm_pca \t|       0.935       \t|\n",
    "|              log \t|       0.935       \t|\n",
    "|          log_pca \t|       0.935       \t|\n",
    "|     boosted_tree \t|       0.931       \t|\n",
    "| boosted_tree_pca \t|       0.930       \t|\n",
    "|             tree \t|       0.903       \t|\n",
    "|         tree_pca \t|       0.910       \t|"
   ]
  },
  {
   "cell_type": "markdown",
   "id": "d5506255",
   "metadata": {},
   "source": [
    "- It seems PCA either didn't have much effect on performance or increased performance for most models. \n",
    "\n",
    "- The highest increase with PCA was with the Decision Tree model, and it increased performance by 0.007.\n",
    "\n",
    "- The highest decreased with PCA was with the Random Forest model, and it decreased performance by 0.007.\n",
    "\n",
    "- It seems the simpler models benefit more from PCA.\n",
    "\n",
    "- The best model without PCA was the Random Forest model: 0.941\n",
    "\n",
    "- The best model with PCA was K-Nearest Neighbors: 0.940"
   ]
  },
  {
   "cell_type": "markdown",
   "id": "47b4ddd0",
   "metadata": {},
   "source": [
    "### Plot Train Set\n",
    "\n",
    "Maybe visualizing the data points can help us understand why certain models worked better."
   ]
  },
  {
   "cell_type": "code",
   "execution_count": 42,
   "id": "007eaaea",
   "metadata": {},
   "outputs": [
    {
     "data": {
      "image/png": "[encoded data removed]",
      "text/plain": [
       "<Figure size 1008x1008 with 1 Axes>"
      ]
     },
     "metadata": {},
     "output_type": "display_data"
    }
   ],
   "source": [
    "# import packages\n",
    "import matplotlib.pyplot as plt\n",
    "\n",
    "# seperate the actual outcomes of 0 and 1\n",
    "y_0 = y_train == 0\n",
    "y_1 = y_train == 1\n",
    "\n",
    "# plot size\n",
    "plt.figure(figsize=(14,14))\n",
    "\n",
    "# plot the negative cases\n",
    "plt.scatter(x=X_train_pca[y_0 ,0], \n",
    "            y=X_train_pca[y_0 ,1],\n",
    "            c=\"grey\", \n",
    "            alpha=0.5,\n",
    "            s=80)\n",
    "\n",
    "# plot the positive cases\n",
    "plt.scatter(x=X_train_pca[y_1 ,0], \n",
    "            y=X_train_pca[y_1 ,1],\n",
    "            c=\"red\",\n",
    "            s=100,\n",
    "            alpha=1)\n",
    "\n",
    "\n",
    "# Legends and Titles\n",
    "plt.legend([\"Negative case\", \n",
    "            \"Dragon-type\"], \n",
    "           loc=\"best\")\n",
    "\n",
    "plt.title(\"First Component vs Second Component (Train Set)\")\n",
    "plt.xlabel(\"First Component\")\n",
    "plt.ylabel(\"Second Component\")\n",
    "\n",
    "plt.show()"
   ]
  },
  {
   "cell_type": "markdown",
   "id": "602319d7",
   "metadata": {},
   "source": [
    "On this plot of the first two components, it seems Dragon-types lean slightly toward the top right corner.\n",
    "\n",
    "Also, while Dragon-types are not grouped toward any one specific area, it seems there are little groupings of them all over the plot, which might hint as to why K-Nearest Neighbors worked well."
   ]
  },
  {
   "cell_type": "markdown",
   "id": "9d65ab89",
   "metadata": {},
   "source": [
    "---\n",
    "\n",
    "# Step 6: GridSearchCV"
   ]
  },
  {
   "cell_type": "markdown",
   "id": "e8ea87c3",
   "metadata": {},
   "source": [
    "As Random Forest without PCA and KNN model with PCA performed the best out of all the models, I will test their performance after optimizing parameters with Grid Search."
   ]
  },
  {
   "cell_type": "markdown",
   "id": "7ef75475",
   "metadata": {},
   "source": [
    "**Random Forest Parameters**\n",
    "\n",
    "n_estimators \n",
    "\n",
    "- int, default=100\n",
    "\n",
    "- The number of trees in the forest.\n",
    "\n",
    "max_features\n",
    "\n",
    "- {“sqrt”, “log2”, None}, int or float, default=”sqrt”\n",
    "\n",
    "- The number of features to consider when looking for the best split:\n",
    "\n",
    "    - Maximum features\n",
    "    - Amount of randomness (smaller reduces overfitting)\n",
    "\n",
    "max_depth\n",
    "\n",
    "- int, default=None\n",
    "\n",
    "- For pre-pruning\n",
    "\n",
    "- The maximum depth of the tree. \n",
    "\n",
    "- If None, then nodes are expanded until all leaves are pure or until all leaves contain less than min_samples_split samples.\n",
    "\n",
    "https://scikit-learn.org/stable/modules/generated/sklearn.ensemble.RandomForestClassifier.html"
   ]
  },
  {
   "cell_type": "markdown",
   "id": "cf646ec5",
   "metadata": {},
   "source": [
    "### Random Forest - GridSearchCV"
   ]
  },
  {
   "cell_type": "code",
   "execution_count": 40,
   "id": "ee7e7a8d",
   "metadata": {},
   "outputs": [
    {
     "name": "stdout",
     "output_type": "stream",
     "text": [
      "best params:\n",
      "\n",
      " {'max_depth': 5, 'max_features': 'sqrt', 'n_estimators': 50}\n",
      "\n",
      "best score:\n",
      "\n",
      " 0.9388535031847134 \n",
      "\n",
      "\n"
     ]
    }
   ],
   "source": [
    "# CONDUCT GRID SEARCH ---------------------------\n",
    "\n",
    "from sklearn.model_selection import GridSearchCV\n",
    "\n",
    "# dictionary of parameters to search\n",
    "param_grid = {\"n_estimators\": [50, 100, 200],\n",
    "             \"max_features\": [\"sqrt\", \"log2\", \"None\"],\n",
    "             \"max_depth\": [\"None\", 3, 5, 7]}\n",
    "\n",
    "# grid search on all values of k in dictionary\n",
    "forest_grid = GridSearchCV(forest, param_grid, cv=5)\n",
    "\n",
    "forest_grid.fit(X_train, y_train)\n",
    "\n",
    "\n",
    "# PRINT RESULTS ---------------------------\n",
    "\n",
    "# best performing (on training set)\n",
    "print(\"best params:\\n\\n\", forest_grid.best_params_)\n",
    "\n",
    "# accuracy of best performing k\n",
    "\n",
    "print(\"\\nbest score:\\n\\n\", forest_grid.best_score_, \"\\n\\n\")"
   ]
  },
  {
   "cell_type": "markdown",
   "id": "ab33010c",
   "metadata": {},
   "source": [
    "### CrossValidationSSS on Optimized Random Forest"
   ]
  },
  {
   "cell_type": "code",
   "execution_count": 41,
   "id": "06f4c2d3",
   "metadata": {},
   "outputs": [
    {
     "name": "stdout",
     "output_type": "stream",
     "text": [
      "Mean of cv_scores (regular): 0.9401273885350319\n",
      "\n"
     ]
    }
   ],
   "source": [
    "# Create instance of forest_optimized --------------------\n",
    "from sklearn.ensemble import RandomForestClassifier\n",
    "\n",
    "forest_optimized = RandomForestClassifier(random_state=42,\n",
    "                                          max_depth = 5,\n",
    "                                          max_features = \"sqrt\",\n",
    "                                          n_estimators = 50)\n",
    "\n",
    "# Fit instance ----------------------------------------------------\n",
    "forest_optimized.fit(X_train, y_train)\n",
    "\n",
    "\n",
    "# Conduct Cross-Valation with Stratified Shuffle Split -----------------\n",
    "from sklearn.model_selection import StratifiedShuffleSplit\n",
    "from sklearn.model_selection import cross_val_score\n",
    "\n",
    "sss = StratifiedShuffleSplit(n_splits=5,\n",
    "                               test_size=0.2, \n",
    "                               random_state=42)\n",
    "\n",
    "cv_scores_regular = cross_val_score(forest_optimized, X_train, y_train, cv=sss)\n",
    "\n",
    "print(\"Mean of cv_scores (regular): {}\\n\".format(np.mean(cv_scores_regular)))"
   ]
  },
  {
   "cell_type": "markdown",
   "id": "a47c4403",
   "metadata": {},
   "source": [
    "Random Forest with default parameters had a mean cv_score of 0.941\n",
    "\n",
    "Random Forest with optimized parameters had a mean cv_score of 0.940\n",
    "\n",
    "It seems optmizing parameters did not change much in performance."
   ]
  },
  {
   "cell_type": "markdown",
   "id": "336b4cb6",
   "metadata": {},
   "source": [
    "---\n",
    "\n",
    "**KNN Parameters**\n",
    "\n",
    "\n",
    "n_neighbors\n",
    "\n",
    "- int, default=5\n",
    "\n",
    "- Number of neighbors to use by default for kneighbors queries.\n",
    "\n",
    "weights\n",
    "\n",
    "- {‘uniform’, ‘distance’} or callable, default=’uniform’\n",
    "\n",
    "- How we weight each neighbor's vote.\n",
    "\n",
    "    - ‘uniform’ : uniform weights. All points in each neighborhood are weighted equally.\n",
    "\n",
    "    - ‘distance’ : weight points by the inverse of their distance. in this case, closer neighbors of a query point will have a greater influence than neighbors which are further away.\n",
    "\n",
    "metric\n",
    "\n",
    "- How we measure the distance between neighbors (Euclidean, Manhattan, etc)"
   ]
  },
  {
   "cell_type": "markdown",
   "id": "f667ac07",
   "metadata": {},
   "source": [
    "### KNN with PCA - GridSearchCV"
   ]
  },
  {
   "cell_type": "code",
   "execution_count": 42,
   "id": "e5da52fa",
   "metadata": {},
   "outputs": [
    {
     "name": "stdout",
     "output_type": "stream",
     "text": [
      "best params:\n",
      "\n",
      " {'metric': 'manhattan', 'n_neighbors': 17, 'weights': 'uniform'}\n",
      "\n",
      "best score:\n",
      "\n",
      " 0.9375796178343949 \n",
      "\n",
      "\n"
     ]
    }
   ],
   "source": [
    "# CONDUCT GRID SEARCH ---------------------------\n",
    "\n",
    "from sklearn.model_selection import GridSearchCV\n",
    "\n",
    "# dictionary of parameters to search\n",
    "param_grid = {\"n_neighbors\": [5, 12, 15, 17, 20],\n",
    "             \"weights\": [\"uniform\", \"distance\"],\n",
    "             \"metric\": [\"euclidean\", \"manhattan\"]}\n",
    "\n",
    "# grid search on all values of k in dictionary\n",
    "KNN_pca_grid = GridSearchCV(KNN_pca, param_grid, cv=5)\n",
    "\n",
    "KNN_pca_grid.fit(X_train_pca, y_train)\n",
    "\n",
    "\n",
    "# PRINT RESULTS ---------------------------\n",
    "\n",
    "# best performing (on training set)\n",
    "print(\"best params:\\n\\n\", KNN_pca_grid.best_params_)\n",
    "\n",
    "# accuracy of best performing k\n",
    "\n",
    "print(\"\\nbest score:\\n\\n\", KNN_pca_grid.best_score_, \"\\n\\n\")"
   ]
  },
  {
   "cell_type": "markdown",
   "id": "08acb2c5",
   "metadata": {},
   "source": [
    "### CrossValidationSSS on Optimized KNN with PCA"
   ]
  },
  {
   "cell_type": "code",
   "execution_count": 43,
   "id": "95cd1495",
   "metadata": {},
   "outputs": [
    {
     "name": "stdout",
     "output_type": "stream",
     "text": [
      "Mean of cv_scores (regular): 0.9363057324840763\n",
      "\n"
     ]
    }
   ],
   "source": [
    "# Create instance of KNN_pca_optimized --------------------\n",
    "from sklearn.neighbors import KNeighborsClassifier\n",
    "\n",
    "KNN_pca_optimized = KNeighborsClassifier(metric = \"manhattan\",\n",
    "                                        n_neighbors = 17,\n",
    "                                        weights = \"uniform\")\n",
    "\n",
    "# Fit instance ----------------------------------------------------\n",
    "KNN_pca_optimized.fit(X_train_pca, y_train)\n",
    "\n",
    "\n",
    "# Conduct Cross-Valation with Stratified Shuffle Split -----------------\n",
    "from sklearn.model_selection import StratifiedShuffleSplit\n",
    "from sklearn.model_selection import cross_val_score\n",
    "\n",
    "sss = StratifiedShuffleSplit(n_splits=5,\n",
    "                               test_size=0.2, \n",
    "                               random_state=42)\n",
    "\n",
    "cv_scores_regular = cross_val_score(KNN_pca_optimized, X_train_pca, y_train, cv=sss)\n",
    "\n",
    "print(\"Mean of cv_scores (regular): {}\\n\".format(np.mean(cv_scores_regular)))"
   ]
  },
  {
   "cell_type": "markdown",
   "id": "4062eec2",
   "metadata": {},
   "source": [
    "KNN with PCA and default parameters had a mean cv_score of 0.940\n",
    "\n",
    "KNN with PCA and optimized parameters had a mean cv_score of 0.936\n",
    "\n",
    "It seems optimizing parameters slightly decreased performance."
   ]
  },
  {
   "cell_type": "markdown",
   "id": "bf214873",
   "metadata": {},
   "source": [
    "---\n",
    "\n",
    "# Test Set Comparison: Evaluation Metrics"
   ]
  },
  {
   "cell_type": "markdown",
   "id": "0181c628",
   "metadata": {},
   "source": [
    "I will explore evaluation metrics on these four models:\n",
    "\n",
    "- Random Forest \n",
    "\n",
    "- Random Forest (optimized)\n",
    "\n",
    "- KNN with PCA \n",
    "\n",
    "- KNN with PCA (optimized)"
   ]
  },
  {
   "cell_type": "markdown",
   "id": "4ddc7aad",
   "metadata": {},
   "source": [
    "### Random Forest vs Random Forest (optimized)"
   ]
  },
  {
   "cell_type": "code",
   "execution_count": 44,
   "id": "a854fd6a",
   "metadata": {
    "scrolled": false
   },
   "outputs": [
    {
     "name": "stdout",
     "output_type": "stream",
     "text": [
      "Mean of cv_scores (regular): 0.9414012738853502\n",
      "\n",
      "Mean of cv_scores (optimized): 0.9401273885350319\n",
      "\n",
      "\n",
      "         pred: 0  pred: 1\n",
      "true: 0      183        1\n",
      "true: 1       11        2\n",
      "\n",
      "\n",
      "         pred: 0  pred: 1\n",
      "true: 0      182        2\n",
      "true: 1       11        2\n",
      "\n",
      "\n",
      "\n",
      "Evaluation Metrics (regular):\n",
      "              precision    recall  f1-score   support\n",
      "\n",
      "  Not Dragon       0.94      0.99      0.97       184\n",
      "   Is Dragon       0.67      0.15      0.25        13\n",
      "\n",
      "    accuracy                           0.94       197\n",
      "   macro avg       0.80      0.57      0.61       197\n",
      "weighted avg       0.93      0.94      0.92       197\n",
      "\n",
      "Evaluation Metrics (optimized):\n",
      "              precision    recall  f1-score   support\n",
      "\n",
      "  Not Dragon       0.94      0.99      0.97       184\n",
      "   Is Dragon       0.50      0.15      0.24        13\n",
      "\n",
      "    accuracy                           0.93       197\n",
      "   macro avg       0.72      0.57      0.60       197\n",
      "weighted avg       0.91      0.93      0.92       197\n",
      "\n"
     ]
    }
   ],
   "source": [
    "# CROSS VALIDATION with StratifiedShuffleSplit ------------------------------\n",
    "\n",
    "from sklearn.model_selection import StratifiedShuffleSplit\n",
    "from sklearn.model_selection import cross_val_score\n",
    "\n",
    "\n",
    "sss = StratifiedShuffleSplit(n_splits=5,\n",
    "                               test_size=0.2, \n",
    "                               random_state=42)\n",
    "\n",
    "cv_scores = cross_val_score(forest, X_train, y_train, cv=sss)\n",
    "cv_scores_optimized = cross_val_score(forest_optimized, X_train, y_train, cv=sss)\n",
    "\n",
    "print(\"Mean of cv_scores (regular): {}\\n\".format(np.mean(cv_scores)))\n",
    "\n",
    "print(\"Mean of cv_scores (optimized): {}\".format(np.mean(cv_scores_optimized)))\n",
    "\n",
    "\n",
    "\n",
    "# CONFUSION MATRIX ------------------------------------------------------\n",
    "\n",
    "# Predictions\n",
    "y_pred = forest.predict(X_test)\n",
    "y_pred_optimized = forest_optimized.predict(X_test)\n",
    "\n",
    "# Confusion Matrix \n",
    "from sklearn.metrics import confusion_matrix\n",
    "\n",
    "confusion = confusion_matrix(y_test, y_pred)\n",
    "confusion_optimized = confusion_matrix(y_test, y_pred_optimized)\n",
    "\n",
    "cmtx = pd.DataFrame(\n",
    "    confusion, \n",
    "    index=['true: 0', 'true: 1'], \n",
    "    columns=['pred: 0', 'pred: 1']\n",
    ")\n",
    "\n",
    "cmtx_optimized = pd.DataFrame(\n",
    "    confusion_optimized, \n",
    "    index=['true: 0', 'true: 1'], \n",
    "    columns=['pred: 0', 'pred: 1']\n",
    ")\n",
    "\n",
    "print(\"\\n\")\n",
    "print(cmtx)\n",
    "print(\"\\n\")\n",
    "print(cmtx_optimized)\n",
    "print(\"\\n\")\n",
    "\n",
    "\n",
    "# EVALUATION METRICS Precision, Recall, and f1-score ---------------------\n",
    "from sklearn.metrics import classification_report\n",
    "\n",
    "print(\"\\nEvaluation Metrics (regular):\")\n",
    "print(classification_report(y_test, \n",
    "                            y_pred,\n",
    "                            target_names=[\"Not Dragon\", \"Is Dragon\"]))\n",
    "\n",
    "print(\"Evaluation Metrics (optimized):\")\n",
    "print(classification_report(y_test, \n",
    "                            y_pred_optimized,\n",
    "                            target_names=[\"Not Dragon\", \"Is Dragon\"]))"
   ]
  },
  {
   "cell_type": "markdown",
   "id": "c6e4398c",
   "metadata": {},
   "source": [
    "### KNN with PCA vs KNN with PCA (optimized)"
   ]
  },
  {
   "cell_type": "code",
   "execution_count": 45,
   "id": "fbbaa8ff",
   "metadata": {
    "scrolled": false
   },
   "outputs": [
    {
     "name": "stdout",
     "output_type": "stream",
     "text": [
      "Mean of cv_scores (regular): 0.9401273885350319\n",
      "\n",
      "Mean of cv_scores (optimized): 0.9363057324840763\n",
      "\n",
      "\n",
      "         pred: 0  pred: 1\n",
      "true: 0      180        4\n",
      "true: 1       10        3\n",
      "\n",
      "\n",
      "         pred: 0  pred: 1\n",
      "true: 0      184        0\n",
      "true: 1       13        0\n",
      "\n",
      "\n",
      "\n",
      "Evaluation Metrics (regular):\n",
      "              precision    recall  f1-score   support\n",
      "\n",
      "  Not Dragon       0.95      0.98      0.96       184\n",
      "   Is Dragon       0.43      0.23      0.30        13\n",
      "\n",
      "    accuracy                           0.93       197\n",
      "   macro avg       0.69      0.60      0.63       197\n",
      "weighted avg       0.91      0.93      0.92       197\n",
      "\n",
      "Evaluation Metrics (optimized):\n",
      "              precision    recall  f1-score   support\n",
      "\n",
      "  Not Dragon       0.93      1.00      0.97       184\n",
      "   Is Dragon       0.00      0.00      0.00        13\n",
      "\n",
      "    accuracy                           0.93       197\n",
      "   macro avg       0.47      0.50      0.48       197\n",
      "weighted avg       0.87      0.93      0.90       197\n",
      "\n"
     ]
    }
   ],
   "source": [
    "# CROSS VALIDATION with StratifiedShuffleSplit ------------------------------\n",
    "\n",
    "from sklearn.model_selection import StratifiedShuffleSplit\n",
    "from sklearn.model_selection import cross_val_score\n",
    "\n",
    "\n",
    "sss = StratifiedShuffleSplit(n_splits=5,\n",
    "                               test_size=0.2, \n",
    "                               random_state=42)\n",
    "\n",
    "cv_scores = cross_val_score(KNN_pca, X_train_pca, y_train, cv=sss)\n",
    "cv_scores_optimized = cross_val_score(KNN_pca_optimized, X_train_pca, y_train, cv=sss)\n",
    "\n",
    "print(\"Mean of cv_scores (regular): {}\\n\".format(np.mean(cv_scores)))\n",
    "\n",
    "print(\"Mean of cv_scores (optimized): {}\".format(np.mean(cv_scores_optimized)))\n",
    "\n",
    "\n",
    "\n",
    "# CONFUSION MATRIX ------------------------------------------------------\n",
    "\n",
    "# Predictions\n",
    "y_pred = KNN_pca.predict(X_test_pca)\n",
    "y_pred_optimized = KNN_pca_optimized.predict(X_test_pca)\n",
    "\n",
    "# Confusion Matrix \n",
    "from sklearn.metrics import confusion_matrix\n",
    "\n",
    "confusion = confusion_matrix(y_test, y_pred)\n",
    "confusion_optimized = confusion_matrix(y_test, y_pred_optimized)\n",
    "\n",
    "cmtx = pd.DataFrame(\n",
    "    confusion, \n",
    "    index=['true: 0', 'true: 1'], \n",
    "    columns=['pred: 0', 'pred: 1']\n",
    ")\n",
    "\n",
    "cmtx_optimized = pd.DataFrame(\n",
    "    confusion_optimized, \n",
    "    index=['true: 0', 'true: 1'], \n",
    "    columns=['pred: 0', 'pred: 1']\n",
    ")\n",
    "\n",
    "print(\"\\n\")\n",
    "print(cmtx)\n",
    "print(\"\\n\")\n",
    "print(cmtx_optimized)\n",
    "print(\"\\n\")\n",
    "\n",
    "\n",
    "\n",
    "# EVALUATION METRICS Precision, Recall, and f1-score ---------------------\n",
    "from sklearn.metrics import classification_report\n",
    "\n",
    "print(\"\\nEvaluation Metrics (regular):\")\n",
    "print(classification_report(y_test, \n",
    "                            y_pred,\n",
    "                            target_names=[\"Not Dragon\", \"Is Dragon\"]))\n",
    "\n",
    "print(\"Evaluation Metrics (optimized):\")\n",
    "print(classification_report(y_test, \n",
    "                            y_pred_optimized,\n",
    "                            target_names=[\"Not Dragon\", \"Is Dragon\"]))"
   ]
  },
  {
   "cell_type": "markdown",
   "id": "10736e2c",
   "metadata": {},
   "source": [
    "**Random Forest Results:**\n",
    "\n",
    "- Train set CV score = 0.941\n",
    "- Test set accuracy = 0.94\n",
    "- macro precision = 0.80\n",
    "- macro recall = 0.57\n",
    "- macro f1-score = 0.61\n",
    "- Dragons correctly classified = 2\n",
    "\n",
    "**Random Forest (Optimized) Results:**\n",
    "\n",
    "- Train set CV score = 0.940\n",
    "- Test set accuracy = 0.93\n",
    "- macro precision = 0.72\n",
    "- macro recall = 0.57\n",
    "- macro f1-score = 0.60\n",
    "- Dragons correctly classified = 2\n",
    "\n",
    "**KNN with PCA Results:**\n",
    "\n",
    "- Train set CV score = 0.940\n",
    "- Test set accuracy = 0.93\n",
    "- macro precision = 0.69\n",
    "- macro recall = 0.60\n",
    "- macro f1-score = 0.63\n",
    "- Dragons correctly classified = 3\n",
    "\n",
    "**KNN with PCA (Optimized) Results:**\n",
    "\n",
    "- Train set CV score = 0.936\n",
    "- Test set accuracy = 0.93\n",
    "- macro precision = 0.47\n",
    "- macro recall = 0.50\n",
    "- macro f1-score = 0.48\n",
    "- Dragons correctly classified = 0"
   ]
  },
  {
   "cell_type": "markdown",
   "id": "d1dac9f5",
   "metadata": {},
   "source": [
    "These final models were about equal in performance, but it seems KNN with PCA and default parameters was the best.\n",
    "\n",
    "While the default Random Forest model had a higher accuracy of 0.94, with an imbalanced dataset of 93.4% positive cases and 6.6% positive cases, a model can predict all cases as negative and get a high accuracy. It is better to look at the f1-score which takes into account the proportion of postive predictions that were correct (precision) and the proportion of all positive cases that were captured (recall)."
   ]
  },
  {
   "cell_type": "markdown",
   "id": "6bc7ccb2",
   "metadata": {},
   "source": [
    "---\n",
    "\n",
    "# Final Result:\n",
    "\n",
    "Best Model: KNN with PCA and default parameters\n",
    "\n",
    "This model had:\n",
    "\n",
    "- The highest macro f1-score of 0.63\n",
    "- 3 Dragon-types correctly predicted\n",
    "- 180 non-Dragon-types correctly predicted"
   ]
  },
  {
   "cell_type": "markdown",
   "id": "03bed737",
   "metadata": {},
   "source": [
    "---\n",
    "\n",
    "# Extra Visualization of Test Set and KNN with PCA Predictions"
   ]
  },
  {
   "cell_type": "code",
   "execution_count": 193,
   "id": "fccb0cb3",
   "metadata": {
    "scrolled": false
   },
   "outputs": [
    {
     "data": {
      "image/png": "[encoded data removed]",
      "text/plain": [
       "<Figure size 1008x1008 with 1 Axes>"
      ]
     },
     "metadata": {},
     "output_type": "display_data"
    }
   ],
   "source": [
    "# import packages\n",
    "import matplotlib.pyplot as plt\n",
    "\n",
    "# seperate the actual outcomes of 0 and 1\n",
    "isDragon_0 = y_test == 0\n",
    "isDragon_1 = y_test == 1\n",
    "\n",
    "# seperate the predicted outcomes of 0 and 1\n",
    "y_pred = KNN_pca.predict(X_test_pca)\n",
    "pred_0 = y_pred == 0\n",
    "pred_1 = y_pred == 1\n",
    "\n",
    "# plot size\n",
    "plt.figure(figsize=(14,14))\n",
    "\n",
    "\n",
    "\n",
    "# plot the negative cases\n",
    "plt.scatter(x=X_test_pca[isDragon_0 ,0], \n",
    "            y=X_test_pca[isDragon_0 ,1],\n",
    "            c=\"grey\", \n",
    "            alpha=0.5,\n",
    "            s=80)\n",
    "\n",
    "# plot the positive cases\n",
    "plt.scatter(x=X_test_pca[isDragon_1 ,0], \n",
    "            y=X_test_pca[isDragon_1 ,1],\n",
    "            c=\"red\",\n",
    "            s=100,\n",
    "            alpha=1)\n",
    "\n",
    "# plot the negative predictions\n",
    "plt.scatter(x=X_test_pca[pred_0 ,0], \n",
    "            y=X_test_pca[pred_0 ,1],\n",
    "            c=\"black\",\n",
    "            marker=\"x\",\n",
    "            s=80)\n",
    "\n",
    "# plot the positive predictions\n",
    "plt.scatter(x=X_test_pca[pred_1 ,0], \n",
    "            y=X_test_pca[pred_1 ,1],\n",
    "            marker=\"o\",\n",
    "            s=100,\n",
    "            facecolors='none', \n",
    "            edgecolors='g',\n",
    "            linewidths=2)\n",
    "\n",
    "\n",
    "# Legends and Titles\n",
    "plt.legend([\"Negative case\", \n",
    "            \"Dragon-type\", \n",
    "            \"Predicted as negative\", \n",
    "            \"Predicted as Dragon\"], \n",
    "           loc=\"best\")\n",
    "\n",
    "plt.title(\"KNN with PCA Type Predictions vs Actual Type\")\n",
    "plt.xlabel(\"First Component\")\n",
    "plt.ylabel(\"Second Component\")\n",
    "\n",
    "plt.show()\n",
    "\n"
   ]
  }
 ],
 "metadata": {
  "kernelspec": {
   "display_name": "Python 3 (ipykernel)",
   "language": "python",
   "name": "python3"
  },
  "language_info": {
   "codemirror_mode": {
    "name": "ipython",
    "version": 3
   },
   "file_extension": ".py",
   "mimetype": "text/x-python",
   "name": "python",
   "nbconvert_exporter": "python",
   "pygments_lexer": "ipython3",
   "version": "3.9.7"
  }
 },
 "nbformat": 4,
 "nbformat_minor": 5
}
