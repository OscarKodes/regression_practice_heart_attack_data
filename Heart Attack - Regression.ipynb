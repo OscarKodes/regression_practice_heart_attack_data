{
 "cells": [
  {
   "cell_type": "markdown",
   "id": "e1119d88",
   "metadata": {},
   "source": [
    "# Heart Attack - Regression\n",
    "\n",
    "Source: https://www.kaggle.com/datasets/sukhmandeepsinghbrar/heart-attack-dataset?resource=download\n",
    "\n",
    "- The heart attack datasets were collected at Zheen hospital in Erbil, Iraq, from January 2019 to May 2019. \n",
    "\n",
    "- The attributes of this dataset are: age, gender, heart rate, systolic blood pressure, diastolic blood pressure, blood sugar, ck-mb and troponin with negative or positive output. \n",
    "\n",
    "- According to the provided information, the medical dataset classifies either heart attack or none. \n",
    "\n",
    "- The gender column in the data is normalized: \n",
    "\n",
    "    - the male is set to 1 and the female to 0. \n",
    "    \n",
    "    - The glucose column is set to 1 if it is > 120; otherwise, 0. \n",
    "    \n",
    "    - As for the output, positive is set to 1 and negative to 0."
   ]
  },
  {
   "cell_type": "markdown",
   "id": "91e337c7",
   "metadata": {},
   "source": [
    "--- \n",
    "\n",
    "# Step 1: Import Data and Packages"
   ]
  },
  {
   "cell_type": "code",
   "execution_count": null,
   "id": "a6d7cdac",
   "metadata": {},
   "outputs": [],
   "source": [
    "import numpy as np\n",
    "import pandas as pd\n",
    "\n",
    "\n",
    "import warnings\n",
    "warnings.filterwarnings('ignore')\n",
    "\n",
    "data = pd.read_csv(\"Medicaldataset.csv\")\n",
    "\n",
    "data.head()"
   ]
  },
  {
   "cell_type": "markdown",
   "id": "be518847",
   "metadata": {},
   "source": [
    "### Check columns"
   ]
  },
  {
   "cell_type": "markdown",
   "id": "e6b723d8",
   "metadata": {},
   "source": [
    "### Select Columns and Rows"
   ]
  },
  {
   "cell_type": "markdown",
   "id": "62820d88",
   "metadata": {},
   "source": [
    "### Train-Test Split"
   ]
  },
  {
   "cell_type": "markdown",
   "id": "4aebc245",
   "metadata": {},
   "source": [
    "### Check the training set"
   ]
  },
  {
   "cell_type": "markdown",
   "id": "5ac49372",
   "metadata": {},
   "source": [
    "### Check for missing data"
   ]
  },
  {
   "cell_type": "markdown",
   "id": "90a288ea",
   "metadata": {},
   "source": [
    "--- \n",
    "\n",
    "# Step 2: Exploratory Data Analysis\n"
   ]
  },
  {
   "cell_type": "markdown",
   "id": "8a0f22f1",
   "metadata": {},
   "source": [
    "### Correlation Matrix Heatmap"
   ]
  },
  {
   "cell_type": "markdown",
   "id": "6aa9dd10",
   "metadata": {},
   "source": [
    "### Distributions"
   ]
  },
  {
   "cell_type": "markdown",
   "id": "5b10cef6",
   "metadata": {},
   "source": [
    "### Pairplot"
   ]
  },
  {
   "cell_type": "markdown",
   "id": "96f819d1",
   "metadata": {},
   "source": [
    "---\n",
    "\n",
    "# Step 3: Prepare the Data\n",
    "\n",
    "### One-Hot Encode Categorical Features"
   ]
  },
  {
   "cell_type": "markdown",
   "id": "0c9ac493",
   "metadata": {},
   "source": [
    "### Check which features are continuous"
   ]
  },
  {
   "cell_type": "markdown",
   "id": "9a1d757d",
   "metadata": {},
   "source": [
    "### Feature Scaling on Continuous Features with Standardization"
   ]
  },
  {
   "cell_type": "markdown",
   "id": "3657f562",
   "metadata": {},
   "source": [
    "### Make sure it worked by seeing if Standard Deviations are 1"
   ]
  },
  {
   "cell_type": "markdown",
   "id": "a5e1d82a",
   "metadata": {},
   "source": [
    "---\n",
    "\n",
    "# Step 4: Linear Regression\n"
   ]
  },
  {
   "cell_type": "markdown",
   "id": "3e23663f",
   "metadata": {},
   "source": [
    "### Full Model"
   ]
  },
  {
   "cell_type": "markdown",
   "id": "93780ec8",
   "metadata": {},
   "source": [
    "### Backwards Elimination: Refit model with features of below 0.05 p-value"
   ]
  },
  {
   "cell_type": "code",
   "execution_count": null,
   "id": "b9a23aa2",
   "metadata": {},
   "outputs": [],
   "source": [
    "---\n",
    "\n",
    "# Step 5: Testing Interaction Terms"
   ]
  },
  {
   "cell_type": "markdown",
   "id": "06421d9b",
   "metadata": {},
   "source": [
    "---\n",
    "\n",
    "# Step 6: Ridge Regression\n",
    "    \n",
    "### GridSearchCV - Ridge"
   ]
  },
  {
   "cell_type": "markdown",
   "id": "f3fd085a",
   "metadata": {},
   "source": [
    "### Optimized Ridge Model"
   ]
  },
  {
   "cell_type": "markdown",
   "id": "2ac637a4",
   "metadata": {},
   "source": [
    "### GridSearchCV - Lasso"
   ]
  },
  {
   "cell_type": "markdown",
   "id": "778fc037",
   "metadata": {},
   "source": [
    "### Optimized Lasso Model"
   ]
  },
  {
   "cell_type": "markdown",
   "id": "1135d92b",
   "metadata": {},
   "source": [
    "--- \n",
    "# Test Set Accuracy"
   ]
  },
  {
   "cell_type": "markdown",
   "id": "34d0a76c",
   "metadata": {},
   "source": [
    "---\n",
    "\n",
    "# Final Conclusion\n"
   ]
  }
 ],
 "metadata": {
  "kernelspec": {
   "display_name": "Python 3 (ipykernel)",
   "language": "python",
   "name": "python3"
  },
  "language_info": {
   "codemirror_mode": {
    "name": "ipython",
    "version": 3
   },
   "file_extension": ".py",
   "mimetype": "text/x-python",
   "name": "python",
   "nbconvert_exporter": "python",
   "pygments_lexer": "ipython3",
   "version": "3.9.7"
  }
 },
 "nbformat": 4,
 "nbformat_minor": 5
}
